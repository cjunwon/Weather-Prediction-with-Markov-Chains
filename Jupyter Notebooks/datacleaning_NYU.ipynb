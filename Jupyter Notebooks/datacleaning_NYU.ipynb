{
 "cells": [
  {
   "cell_type": "markdown",
   "metadata": {},
   "source": [
    "# Data Cleaning for NYU"
   ]
  },
  {
   "cell_type": "code",
   "execution_count": 10,
   "metadata": {},
   "outputs": [],
   "source": [
    "import pandas as pd\n",
    "import numpy as np\n",
    "from datetime import datetime\n",
    "date_format = \"%Y-%m-%d\""
   ]
  },
  {
   "cell_type": "code",
   "execution_count": 11,
   "metadata": {},
   "outputs": [],
   "source": [
    "raw_data = pd.read_csv('Datasets/2000_01_01_2022_11_01_NYU.csv')"
   ]
  },
  {
   "cell_type": "code",
   "execution_count": 12,
   "metadata": {},
   "outputs": [
    {
     "data": {
      "text/html": [
       "<div>\n",
       "<style scoped>\n",
       "    .dataframe tbody tr th:only-of-type {\n",
       "        vertical-align: middle;\n",
       "    }\n",
       "\n",
       "    .dataframe tbody tr th {\n",
       "        vertical-align: top;\n",
       "    }\n",
       "\n",
       "    .dataframe thead th {\n",
       "        text-align: right;\n",
       "    }\n",
       "</style>\n",
       "<table border=\"1\" class=\"dataframe\">\n",
       "  <thead>\n",
       "    <tr style=\"text-align: right;\">\n",
       "      <th></th>\n",
       "      <th>name</th>\n",
       "      <th>datetime</th>\n",
       "      <th>tempmax</th>\n",
       "      <th>tempmin</th>\n",
       "      <th>temp</th>\n",
       "      <th>feelslikemax</th>\n",
       "      <th>feelslikemin</th>\n",
       "      <th>feelslike</th>\n",
       "      <th>dew</th>\n",
       "      <th>humidity</th>\n",
       "      <th>...</th>\n",
       "      <th>solarenergy</th>\n",
       "      <th>uvindex</th>\n",
       "      <th>severerisk</th>\n",
       "      <th>sunrise</th>\n",
       "      <th>sunset</th>\n",
       "      <th>moonphase</th>\n",
       "      <th>conditions</th>\n",
       "      <th>description</th>\n",
       "      <th>icon</th>\n",
       "      <th>stations</th>\n",
       "    </tr>\n",
       "  </thead>\n",
       "  <tbody>\n",
       "    <tr>\n",
       "      <th>0</th>\n",
       "      <td>10012</td>\n",
       "      <td>2000-01-01</td>\n",
       "      <td>9.5</td>\n",
       "      <td>1.3</td>\n",
       "      <td>4.6</td>\n",
       "      <td>7.0</td>\n",
       "      <td>-1.9</td>\n",
       "      <td>2.0</td>\n",
       "      <td>3.7</td>\n",
       "      <td>94.1</td>\n",
       "      <td>...</td>\n",
       "      <td>NaN</td>\n",
       "      <td>NaN</td>\n",
       "      <td>NaN</td>\n",
       "      <td>2000-01-01T07:20:08</td>\n",
       "      <td>2000-01-01T16:38:45</td>\n",
       "      <td>0.89</td>\n",
       "      <td>Partially cloudy</td>\n",
       "      <td>Partly cloudy throughout the day.</td>\n",
       "      <td>partly-cloudy-day</td>\n",
       "      <td>72503794745,72502014734,74486094789,72503014732</td>\n",
       "    </tr>\n",
       "    <tr>\n",
       "      <th>1</th>\n",
       "      <td>10012</td>\n",
       "      <td>2000-01-02</td>\n",
       "      <td>14.1</td>\n",
       "      <td>4.3</td>\n",
       "      <td>9.6</td>\n",
       "      <td>14.1</td>\n",
       "      <td>4.0</td>\n",
       "      <td>9.3</td>\n",
       "      <td>7.9</td>\n",
       "      <td>89.2</td>\n",
       "      <td>...</td>\n",
       "      <td>NaN</td>\n",
       "      <td>NaN</td>\n",
       "      <td>NaN</td>\n",
       "      <td>2000-01-02T07:20:15</td>\n",
       "      <td>2000-01-02T16:39:35</td>\n",
       "      <td>0.93</td>\n",
       "      <td>Overcast</td>\n",
       "      <td>Cloudy skies throughout the day.</td>\n",
       "      <td>cloudy</td>\n",
       "      <td>72503794745,72502014734,74486094789,72503014732</td>\n",
       "    </tr>\n",
       "    <tr>\n",
       "      <th>2</th>\n",
       "      <td>10012</td>\n",
       "      <td>2000-01-03</td>\n",
       "      <td>16.5</td>\n",
       "      <td>9.5</td>\n",
       "      <td>13.3</td>\n",
       "      <td>16.5</td>\n",
       "      <td>8.2</td>\n",
       "      <td>13.2</td>\n",
       "      <td>11.0</td>\n",
       "      <td>86.7</td>\n",
       "      <td>...</td>\n",
       "      <td>NaN</td>\n",
       "      <td>NaN</td>\n",
       "      <td>NaN</td>\n",
       "      <td>2000-01-03T07:20:20</td>\n",
       "      <td>2000-01-03T16:40:27</td>\n",
       "      <td>0.96</td>\n",
       "      <td>Overcast</td>\n",
       "      <td>Cloudy skies throughout the day.</td>\n",
       "      <td>cloudy</td>\n",
       "      <td>72503794745,72502014734,74486094789,72503014732</td>\n",
       "    </tr>\n",
       "    <tr>\n",
       "      <th>3</th>\n",
       "      <td>10012</td>\n",
       "      <td>2000-01-04</td>\n",
       "      <td>18.9</td>\n",
       "      <td>9.1</td>\n",
       "      <td>12.4</td>\n",
       "      <td>18.9</td>\n",
       "      <td>7.5</td>\n",
       "      <td>12.1</td>\n",
       "      <td>11.1</td>\n",
       "      <td>91.7</td>\n",
       "      <td>...</td>\n",
       "      <td>NaN</td>\n",
       "      <td>NaN</td>\n",
       "      <td>NaN</td>\n",
       "      <td>2000-01-04T07:20:22</td>\n",
       "      <td>2000-01-04T16:41:21</td>\n",
       "      <td>0.98</td>\n",
       "      <td>Rain, Overcast</td>\n",
       "      <td>Cloudy skies throughout the day with rain.</td>\n",
       "      <td>rain</td>\n",
       "      <td>72503794745,72502014734,74486094789,72503014732</td>\n",
       "    </tr>\n",
       "    <tr>\n",
       "      <th>4</th>\n",
       "      <td>10012</td>\n",
       "      <td>2000-01-05</td>\n",
       "      <td>8.5</td>\n",
       "      <td>-1.0</td>\n",
       "      <td>3.2</td>\n",
       "      <td>5.4</td>\n",
       "      <td>-5.8</td>\n",
       "      <td>-2.0</td>\n",
       "      <td>-5.1</td>\n",
       "      <td>55.5</td>\n",
       "      <td>...</td>\n",
       "      <td>NaN</td>\n",
       "      <td>NaN</td>\n",
       "      <td>NaN</td>\n",
       "      <td>2000-01-05T07:20:22</td>\n",
       "      <td>2000-01-05T16:42:16</td>\n",
       "      <td>1.00</td>\n",
       "      <td>Rain, Partially cloudy</td>\n",
       "      <td>Partly cloudy throughout the day with early mo...</td>\n",
       "      <td>rain</td>\n",
       "      <td>72503794745,72502014734,74486094789,72503014732</td>\n",
       "    </tr>\n",
       "  </tbody>\n",
       "</table>\n",
       "<p>5 rows × 33 columns</p>\n",
       "</div>"
      ],
      "text/plain": [
       "    name    datetime  tempmax  tempmin  temp  feelslikemax  feelslikemin  \\\n",
       "0  10012  2000-01-01      9.5      1.3   4.6           7.0          -1.9   \n",
       "1  10012  2000-01-02     14.1      4.3   9.6          14.1           4.0   \n",
       "2  10012  2000-01-03     16.5      9.5  13.3          16.5           8.2   \n",
       "3  10012  2000-01-04     18.9      9.1  12.4          18.9           7.5   \n",
       "4  10012  2000-01-05      8.5     -1.0   3.2           5.4          -5.8   \n",
       "\n",
       "   feelslike   dew  humidity  ...  solarenergy  uvindex  severerisk  \\\n",
       "0        2.0   3.7      94.1  ...          NaN      NaN         NaN   \n",
       "1        9.3   7.9      89.2  ...          NaN      NaN         NaN   \n",
       "2       13.2  11.0      86.7  ...          NaN      NaN         NaN   \n",
       "3       12.1  11.1      91.7  ...          NaN      NaN         NaN   \n",
       "4       -2.0  -5.1      55.5  ...          NaN      NaN         NaN   \n",
       "\n",
       "               sunrise               sunset  moonphase  \\\n",
       "0  2000-01-01T07:20:08  2000-01-01T16:38:45       0.89   \n",
       "1  2000-01-02T07:20:15  2000-01-02T16:39:35       0.93   \n",
       "2  2000-01-03T07:20:20  2000-01-03T16:40:27       0.96   \n",
       "3  2000-01-04T07:20:22  2000-01-04T16:41:21       0.98   \n",
       "4  2000-01-05T07:20:22  2000-01-05T16:42:16       1.00   \n",
       "\n",
       "               conditions                                        description  \\\n",
       "0        Partially cloudy                  Partly cloudy throughout the day.   \n",
       "1                Overcast                   Cloudy skies throughout the day.   \n",
       "2                Overcast                   Cloudy skies throughout the day.   \n",
       "3          Rain, Overcast         Cloudy skies throughout the day with rain.   \n",
       "4  Rain, Partially cloudy  Partly cloudy throughout the day with early mo...   \n",
       "\n",
       "                icon                                         stations  \n",
       "0  partly-cloudy-day  72503794745,72502014734,74486094789,72503014732  \n",
       "1             cloudy  72503794745,72502014734,74486094789,72503014732  \n",
       "2             cloudy  72503794745,72502014734,74486094789,72503014732  \n",
       "3               rain  72503794745,72502014734,74486094789,72503014732  \n",
       "4               rain  72503794745,72502014734,74486094789,72503014732  \n",
       "\n",
       "[5 rows x 33 columns]"
      ]
     },
     "execution_count": 12,
     "metadata": {},
     "output_type": "execute_result"
    }
   ],
   "source": [
    "raw_data.head()"
   ]
  },
  {
   "cell_type": "code",
   "execution_count": 13,
   "metadata": {},
   "outputs": [
    {
     "name": "stdout",
     "output_type": "stream",
     "text": [
      "['Partially cloudy' 'Overcast' 'Rain, Overcast' 'Rain, Partially cloudy'\n",
      " 'Snow, Rain, Partially cloudy' 'Clear' 'Snow, Rain, Overcast'\n",
      " 'Snow, Partially cloudy' 'Snow, Overcast' 'Rain' 'Snow' 'Snow, Rain'\n",
      " 'Snow, Rain, Freezing Drizzle/Freezing Rain, Overcast'\n",
      " 'Rain, Freezing Drizzle/Freezing Rain, Ice, Partially cloudy'\n",
      " 'Snow, Rain, Ice, Overcast']\n"
     ]
    }
   ],
   "source": [
    "print(raw_data.conditions.unique())"
   ]
  },
  {
   "cell_type": "code",
   "execution_count": 14,
   "metadata": {},
   "outputs": [
    {
     "name": "stdout",
     "output_type": "stream",
     "text": [
      "['partly-cloudy-day' 'cloudy' 'rain' 'wind' 'snow' 'clear-day']\n"
     ]
    }
   ],
   "source": [
    "print(raw_data.icon.unique())"
   ]
  },
  {
   "cell_type": "code",
   "execution_count": 15,
   "metadata": {},
   "outputs": [],
   "source": [
    "all_seasons = raw_data[['datetime', 'conditions']]"
   ]
  },
  {
   "cell_type": "code",
   "execution_count": 16,
   "metadata": {},
   "outputs": [
    {
     "data": {
      "text/html": [
       "<div>\n",
       "<style scoped>\n",
       "    .dataframe tbody tr th:only-of-type {\n",
       "        vertical-align: middle;\n",
       "    }\n",
       "\n",
       "    .dataframe tbody tr th {\n",
       "        vertical-align: top;\n",
       "    }\n",
       "\n",
       "    .dataframe thead th {\n",
       "        text-align: right;\n",
       "    }\n",
       "</style>\n",
       "<table border=\"1\" class=\"dataframe\">\n",
       "  <thead>\n",
       "    <tr style=\"text-align: right;\">\n",
       "      <th></th>\n",
       "      <th>datetime</th>\n",
       "      <th>conditions</th>\n",
       "    </tr>\n",
       "  </thead>\n",
       "  <tbody>\n",
       "    <tr>\n",
       "      <th>0</th>\n",
       "      <td>2000-01-01</td>\n",
       "      <td>Partially cloudy</td>\n",
       "    </tr>\n",
       "    <tr>\n",
       "      <th>1</th>\n",
       "      <td>2000-01-02</td>\n",
       "      <td>Overcast</td>\n",
       "    </tr>\n",
       "    <tr>\n",
       "      <th>2</th>\n",
       "      <td>2000-01-03</td>\n",
       "      <td>Overcast</td>\n",
       "    </tr>\n",
       "    <tr>\n",
       "      <th>3</th>\n",
       "      <td>2000-01-04</td>\n",
       "      <td>Rain, Overcast</td>\n",
       "    </tr>\n",
       "    <tr>\n",
       "      <th>4</th>\n",
       "      <td>2000-01-05</td>\n",
       "      <td>Rain, Partially cloudy</td>\n",
       "    </tr>\n",
       "  </tbody>\n",
       "</table>\n",
       "</div>"
      ],
      "text/plain": [
       "     datetime              conditions\n",
       "0  2000-01-01        Partially cloudy\n",
       "1  2000-01-02                Overcast\n",
       "2  2000-01-03                Overcast\n",
       "3  2000-01-04          Rain, Overcast\n",
       "4  2000-01-05  Rain, Partially cloudy"
      ]
     },
     "execution_count": 16,
     "metadata": {},
     "output_type": "execute_result"
    }
   ],
   "source": [
    "all_seasons.head()"
   ]
  },
  {
   "cell_type": "code",
   "execution_count": 17,
   "metadata": {},
   "outputs": [],
   "source": [
    "# all_seasons['datetime'] = [datetime.strptime(dt, date_format) for dt in all_seasons['datetime']]\n",
    "# all_seasons['quarter'] = [dt.quarter for dt in all_seasons['datetime']]"
   ]
  },
  {
   "cell_type": "code",
   "execution_count": 18,
   "metadata": {},
   "outputs": [],
   "source": [
    "# all_seasons.quarter.unique()"
   ]
  },
  {
   "cell_type": "code",
   "execution_count": 19,
   "metadata": {},
   "outputs": [],
   "source": [
    "# winter = all_seasons[all_seasons.quarter == 1]\n",
    "# spring = all_seasons[all_seasons.quarter == 2]\n",
    "# summer = all_seasons[all_seasons.quarter == 3]\n",
    "# fall = all_seasons[all_seasons.quarter == 4]"
   ]
  },
  {
   "cell_type": "code",
   "execution_count": 20,
   "metadata": {},
   "outputs": [],
   "source": [
    "all_seasons.to_csv('Datasets/all_seasons_NYU.csv', encoding='utf-8', index=False)\n",
    "# winter.to_csv('winter.csv', encoding='utf-8', index=False)\n",
    "# spring.to_csv('spring.csv', encoding='utf-8', index=False)\n",
    "# summer.to_csv('summer.csv', encoding='utf-8', index=False)\n",
    "# fall.to_csv('fall.csv', encoding='utf-8', index=False)"
   ]
  }
 ],
 "metadata": {
  "kernelspec": {
   "display_name": "Python 3 (ipykernel)",
   "language": "python",
   "name": "python3"
  },
  "language_info": {
   "codemirror_mode": {
    "name": "ipython",
    "version": 3
   },
   "file_extension": ".py",
   "mimetype": "text/x-python",
   "name": "python",
   "nbconvert_exporter": "python",
   "pygments_lexer": "ipython3",
   "version": "3.9.7"
  },
  "vscode": {
   "interpreter": {
    "hash": "78adb8089f1b1ad0b7743184fb6585d3ffc1b6fb4a355aad49fe7003845e53d4"
   }
  }
 },
 "nbformat": 4,
 "nbformat_minor": 4
}
