{
 "cells": [
  {
   "cell_type": "markdown",
   "metadata": {},
   "source": [
    "# All Seasons - Simplifed(long time frame - NYU)"
   ]
  },
  {
   "cell_type": "markdown",
   "metadata": {},
   "source": [
    "## Import libraries and dataset"
   ]
  },
  {
   "cell_type": "code",
   "execution_count": 1,
   "metadata": {},
   "outputs": [],
   "source": [
    "import pandas as pd\n",
    "import numpy as np\n",
    "from datetime import datetime\n",
    "date_format = \"%Y-%m-%d\""
   ]
  },
  {
   "cell_type": "code",
   "execution_count": 2,
   "metadata": {},
   "outputs": [],
   "source": [
    "all_seasons_NYU = pd.read_csv('Datasets/all_seasons_NYU.csv')\n",
    "all_seasons_NYU = all_seasons_NYU[['datetime', 'conditions']]\n",
    "all_seasons_UCLA = pd.read_csv('Datasets/all_seasons.csv')\n",
    "all_seasons_UCLA = all_seasons_UCLA[['datetime', 'conditions']]"
   ]
  },
  {
   "cell_type": "code",
   "execution_count": 3,
   "metadata": {},
   "outputs": [
    {
     "data": {
      "text/html": [
       "<div>\n",
       "<style scoped>\n",
       "    .dataframe tbody tr th:only-of-type {\n",
       "        vertical-align: middle;\n",
       "    }\n",
       "\n",
       "    .dataframe tbody tr th {\n",
       "        vertical-align: top;\n",
       "    }\n",
       "\n",
       "    .dataframe thead th {\n",
       "        text-align: right;\n",
       "    }\n",
       "</style>\n",
       "<table border=\"1\" class=\"dataframe\">\n",
       "  <thead>\n",
       "    <tr style=\"text-align: right;\">\n",
       "      <th></th>\n",
       "      <th>datetime</th>\n",
       "      <th>conditions</th>\n",
       "    </tr>\n",
       "  </thead>\n",
       "  <tbody>\n",
       "    <tr>\n",
       "      <th>0</th>\n",
       "      <td>2000-01-01</td>\n",
       "      <td>Partially cloudy</td>\n",
       "    </tr>\n",
       "    <tr>\n",
       "      <th>1</th>\n",
       "      <td>2000-01-02</td>\n",
       "      <td>Overcast</td>\n",
       "    </tr>\n",
       "    <tr>\n",
       "      <th>2</th>\n",
       "      <td>2000-01-03</td>\n",
       "      <td>Overcast</td>\n",
       "    </tr>\n",
       "    <tr>\n",
       "      <th>3</th>\n",
       "      <td>2000-01-04</td>\n",
       "      <td>Rain, Overcast</td>\n",
       "    </tr>\n",
       "    <tr>\n",
       "      <th>4</th>\n",
       "      <td>2000-01-05</td>\n",
       "      <td>Rain, Partially cloudy</td>\n",
       "    </tr>\n",
       "  </tbody>\n",
       "</table>\n",
       "</div>"
      ],
      "text/plain": [
       "     datetime              conditions\n",
       "0  2000-01-01        Partially cloudy\n",
       "1  2000-01-02                Overcast\n",
       "2  2000-01-03                Overcast\n",
       "3  2000-01-04          Rain, Overcast\n",
       "4  2000-01-05  Rain, Partially cloudy"
      ]
     },
     "execution_count": 3,
     "metadata": {},
     "output_type": "execute_result"
    }
   ],
   "source": [
    "all_seasons_NYU.head()"
   ]
  },
  {
   "cell_type": "markdown",
   "metadata": {},
   "source": [
    "## Classify and separate data"
   ]
  },
  {
   "cell_type": "code",
   "execution_count": 4,
   "metadata": {},
   "outputs": [],
   "source": [
    "simplifier = {'Snow, Rain, Ice, Overcast':'rain', 'Rain, Freezing Drizzle/Freezing Rain, Ice, Partially cloudy':'rain', 'Snow, Rain, Freezing Drizzle/Freezing Rain, Overcast':'rain', 'Snow':'rain', 'Snow, Rain, Overcast':'rain', 'Snow, Rain, Partially cloudy':'rain', 'Snow, Rain':'rain','Overcast':'no_rain', 'Partially cloudy':'no_rain', 'Clear':'no_rain', 'Rain, Partially cloudy':'rain', 'Rain':'rain', 'Rain, Overcast':'rain'}\n",
    "\n",
    "all_seasons_NYU['condition'] = all_seasons_NYU['conditions'].map(simplifier)\n",
    "all_seasons_UCLA['condition'] = all_seasons_UCLA['conditions'].map(simplifier)"
   ]
  },
  {
   "cell_type": "code",
   "execution_count": 5,
   "metadata": {},
   "outputs": [
    {
     "data": {
      "text/html": [
       "<div>\n",
       "<style scoped>\n",
       "    .dataframe tbody tr th:only-of-type {\n",
       "        vertical-align: middle;\n",
       "    }\n",
       "\n",
       "    .dataframe tbody tr th {\n",
       "        vertical-align: top;\n",
       "    }\n",
       "\n",
       "    .dataframe thead th {\n",
       "        text-align: right;\n",
       "    }\n",
       "</style>\n",
       "<table border=\"1\" class=\"dataframe\">\n",
       "  <thead>\n",
       "    <tr style=\"text-align: right;\">\n",
       "      <th></th>\n",
       "      <th>datetime</th>\n",
       "      <th>conditions</th>\n",
       "      <th>condition</th>\n",
       "    </tr>\n",
       "  </thead>\n",
       "  <tbody>\n",
       "    <tr>\n",
       "      <th>0</th>\n",
       "      <td>2000-01-01</td>\n",
       "      <td>Partially cloudy</td>\n",
       "      <td>no_rain</td>\n",
       "    </tr>\n",
       "    <tr>\n",
       "      <th>1</th>\n",
       "      <td>2000-01-02</td>\n",
       "      <td>Overcast</td>\n",
       "      <td>no_rain</td>\n",
       "    </tr>\n",
       "    <tr>\n",
       "      <th>2</th>\n",
       "      <td>2000-01-03</td>\n",
       "      <td>Overcast</td>\n",
       "      <td>no_rain</td>\n",
       "    </tr>\n",
       "    <tr>\n",
       "      <th>3</th>\n",
       "      <td>2000-01-04</td>\n",
       "      <td>Rain, Overcast</td>\n",
       "      <td>rain</td>\n",
       "    </tr>\n",
       "    <tr>\n",
       "      <th>4</th>\n",
       "      <td>2000-01-05</td>\n",
       "      <td>Rain, Partially cloudy</td>\n",
       "      <td>rain</td>\n",
       "    </tr>\n",
       "  </tbody>\n",
       "</table>\n",
       "</div>"
      ],
      "text/plain": [
       "     datetime              conditions condition\n",
       "0  2000-01-01        Partially cloudy   no_rain\n",
       "1  2000-01-02                Overcast   no_rain\n",
       "2  2000-01-03                Overcast   no_rain\n",
       "3  2000-01-04          Rain, Overcast      rain\n",
       "4  2000-01-05  Rain, Partially cloudy      rain"
      ]
     },
     "execution_count": 5,
     "metadata": {},
     "output_type": "execute_result"
    }
   ],
   "source": [
    "all_seasons_NYU.head()"
   ]
  },
  {
   "cell_type": "code",
   "execution_count": 6,
   "metadata": {},
   "outputs": [],
   "source": [
    "all_seasons_NYU = all_seasons_NYU[['datetime', 'condition']]\n",
    "all_seasons_UCLA = all_seasons_UCLA[['datetime', 'condition']]"
   ]
  },
  {
   "cell_type": "code",
   "execution_count": 7,
   "metadata": {},
   "outputs": [
    {
     "data": {
      "text/html": [
       "<div>\n",
       "<style scoped>\n",
       "    .dataframe tbody tr th:only-of-type {\n",
       "        vertical-align: middle;\n",
       "    }\n",
       "\n",
       "    .dataframe tbody tr th {\n",
       "        vertical-align: top;\n",
       "    }\n",
       "\n",
       "    .dataframe thead th {\n",
       "        text-align: right;\n",
       "    }\n",
       "</style>\n",
       "<table border=\"1\" class=\"dataframe\">\n",
       "  <thead>\n",
       "    <tr style=\"text-align: right;\">\n",
       "      <th></th>\n",
       "      <th>datetime</th>\n",
       "      <th>condition</th>\n",
       "    </tr>\n",
       "  </thead>\n",
       "  <tbody>\n",
       "    <tr>\n",
       "      <th>0</th>\n",
       "      <td>2000-01-01</td>\n",
       "      <td>no_rain</td>\n",
       "    </tr>\n",
       "    <tr>\n",
       "      <th>1</th>\n",
       "      <td>2000-01-02</td>\n",
       "      <td>no_rain</td>\n",
       "    </tr>\n",
       "    <tr>\n",
       "      <th>2</th>\n",
       "      <td>2000-01-03</td>\n",
       "      <td>no_rain</td>\n",
       "    </tr>\n",
       "    <tr>\n",
       "      <th>3</th>\n",
       "      <td>2000-01-04</td>\n",
       "      <td>rain</td>\n",
       "    </tr>\n",
       "    <tr>\n",
       "      <th>4</th>\n",
       "      <td>2000-01-05</td>\n",
       "      <td>rain</td>\n",
       "    </tr>\n",
       "  </tbody>\n",
       "</table>\n",
       "</div>"
      ],
      "text/plain": [
       "     datetime condition\n",
       "0  2000-01-01   no_rain\n",
       "1  2000-01-02   no_rain\n",
       "2  2000-01-03   no_rain\n",
       "3  2000-01-04      rain\n",
       "4  2000-01-05      rain"
      ]
     },
     "execution_count": 7,
     "metadata": {},
     "output_type": "execute_result"
    }
   ],
   "source": [
    "all_seasons_NYU.head()"
   ]
  },
  {
   "cell_type": "code",
   "execution_count": 8,
   "metadata": {},
   "outputs": [],
   "source": [
    "train_start_date = '2002-01-01'\n",
    "train_end_date = '2017-12-31'\n",
    "all_seasons_UCLA_train = all_seasons_UCLA.loc[all_seasons_NYU['datetime'].between(train_start_date, train_end_date)]\n",
    "all_seasons_UCLA_train = all_seasons_UCLA_train.reset_index()\n",
    "\n",
    "test_start_date = '2018-01-01'\n",
    "test_end_date = '2021-12-31'\n",
    "all_seasons_NYU_test = all_seasons_NYU.loc[all_seasons_NYU['datetime'].between(test_start_date, test_end_date)]\n",
    "all_seasons_NYU_test = all_seasons_NYU_test.reset_index()"
   ]
  },
  {
   "cell_type": "markdown",
   "metadata": {},
   "source": [
    "## Calculate proportions of conditions & Create transition matrix\n",
    "We will refer to rain is 'R' and no rain as 'N'"
   ]
  },
  {
   "cell_type": "code",
   "execution_count": 9,
   "metadata": {},
   "outputs": [],
   "source": [
    "# Initialize count variables\n",
    "R_after_R_count = 0.0\n",
    "N_after_R_count = 0.0\n",
    "\n",
    "R_after_N_count = 0.0\n",
    "N_after_N_count = 0.0"
   ]
  },
  {
   "cell_type": "code",
   "execution_count": 10,
   "metadata": {},
   "outputs": [
    {
     "data": {
      "text/html": [
       "<div>\n",
       "<style scoped>\n",
       "    .dataframe tbody tr th:only-of-type {\n",
       "        vertical-align: middle;\n",
       "    }\n",
       "\n",
       "    .dataframe tbody tr th {\n",
       "        vertical-align: top;\n",
       "    }\n",
       "\n",
       "    .dataframe thead th {\n",
       "        text-align: right;\n",
       "    }\n",
       "</style>\n",
       "<table border=\"1\" class=\"dataframe\">\n",
       "  <thead>\n",
       "    <tr style=\"text-align: right;\">\n",
       "      <th></th>\n",
       "      <th>index</th>\n",
       "      <th>datetime</th>\n",
       "      <th>condition</th>\n",
       "    </tr>\n",
       "  </thead>\n",
       "  <tbody>\n",
       "    <tr>\n",
       "      <th>0</th>\n",
       "      <td>731</td>\n",
       "      <td>2002-01-01</td>\n",
       "      <td>no_rain</td>\n",
       "    </tr>\n",
       "    <tr>\n",
       "      <th>1</th>\n",
       "      <td>732</td>\n",
       "      <td>2002-01-02</td>\n",
       "      <td>rain</td>\n",
       "    </tr>\n",
       "    <tr>\n",
       "      <th>2</th>\n",
       "      <td>733</td>\n",
       "      <td>2002-01-03</td>\n",
       "      <td>rain</td>\n",
       "    </tr>\n",
       "    <tr>\n",
       "      <th>3</th>\n",
       "      <td>734</td>\n",
       "      <td>2002-01-04</td>\n",
       "      <td>no_rain</td>\n",
       "    </tr>\n",
       "    <tr>\n",
       "      <th>4</th>\n",
       "      <td>735</td>\n",
       "      <td>2002-01-05</td>\n",
       "      <td>no_rain</td>\n",
       "    </tr>\n",
       "    <tr>\n",
       "      <th>...</th>\n",
       "      <td>...</td>\n",
       "      <td>...</td>\n",
       "      <td>...</td>\n",
       "    </tr>\n",
       "    <tr>\n",
       "      <th>5839</th>\n",
       "      <td>6570</td>\n",
       "      <td>2017-12-27</td>\n",
       "      <td>no_rain</td>\n",
       "    </tr>\n",
       "    <tr>\n",
       "      <th>5840</th>\n",
       "      <td>6571</td>\n",
       "      <td>2017-12-28</td>\n",
       "      <td>no_rain</td>\n",
       "    </tr>\n",
       "    <tr>\n",
       "      <th>5841</th>\n",
       "      <td>6572</td>\n",
       "      <td>2017-12-29</td>\n",
       "      <td>no_rain</td>\n",
       "    </tr>\n",
       "    <tr>\n",
       "      <th>5842</th>\n",
       "      <td>6573</td>\n",
       "      <td>2017-12-30</td>\n",
       "      <td>no_rain</td>\n",
       "    </tr>\n",
       "    <tr>\n",
       "      <th>5843</th>\n",
       "      <td>6574</td>\n",
       "      <td>2017-12-31</td>\n",
       "      <td>no_rain</td>\n",
       "    </tr>\n",
       "  </tbody>\n",
       "</table>\n",
       "<p>5844 rows × 3 columns</p>\n",
       "</div>"
      ],
      "text/plain": [
       "      index    datetime condition\n",
       "0       731  2002-01-01   no_rain\n",
       "1       732  2002-01-02      rain\n",
       "2       733  2002-01-03      rain\n",
       "3       734  2002-01-04   no_rain\n",
       "4       735  2002-01-05   no_rain\n",
       "...     ...         ...       ...\n",
       "5839   6570  2017-12-27   no_rain\n",
       "5840   6571  2017-12-28   no_rain\n",
       "5841   6572  2017-12-29   no_rain\n",
       "5842   6573  2017-12-30   no_rain\n",
       "5843   6574  2017-12-31   no_rain\n",
       "\n",
       "[5844 rows x 3 columns]"
      ]
     },
     "execution_count": 10,
     "metadata": {},
     "output_type": "execute_result"
    }
   ],
   "source": [
    "all_seasons_UCLA_train"
   ]
  },
  {
   "cell_type": "code",
   "execution_count": 11,
   "metadata": {},
   "outputs": [],
   "source": [
    "# Count conditions\n",
    "\n",
    "all_seasons_UCLA_train['condition_shift'] = all_seasons_UCLA_train['condition'].shift(-1)\n",
    "\n",
    "for i in range(len(all_seasons_UCLA_train)):\n",
    "    if all_seasons_UCLA_train.loc[i, 'condition'] == 'rain' and all_seasons_UCLA_train.loc[i, 'condition_shift'] == 'rain':\n",
    "        R_after_R_count += 1\n",
    "    elif all_seasons_UCLA_train.loc[i, 'condition'] == 'no_rain' and all_seasons_UCLA_train.loc[i, 'condition_shift'] == 'rain':\n",
    "        N_after_R_count += 1\n",
    "    elif all_seasons_UCLA_train.loc[i, 'condition'] == 'rain' and all_seasons_UCLA_train.loc[i, 'condition_shift'] == 'no_rain':\n",
    "        R_after_N_count += 1\n",
    "    elif all_seasons_UCLA_train.loc[i, 'condition'] == 'no_rain' and all_seasons_UCLA_train.loc[i, 'condition_shift'] == 'no_rain':\n",
    "        N_after_N_count += 1"
   ]
  },
  {
   "cell_type": "code",
   "execution_count": 12,
   "metadata": {},
   "outputs": [],
   "source": [
    "current_R_total = R_after_R_count + N_after_R_count\n",
    "current_N_total = R_after_N_count + N_after_N_count"
   ]
  },
  {
   "cell_type": "code",
   "execution_count": 13,
   "metadata": {},
   "outputs": [],
   "source": [
    "R_after_R_prob = R_after_R_count / current_R_total\n",
    "N_after_R_prob = N_after_R_count / current_R_total\n",
    "\n",
    "R_after_N_prob = R_after_N_count / current_N_total\n",
    "N_after_N_prob = N_after_N_count / current_N_total"
   ]
  },
  {
   "cell_type": "code",
   "execution_count": 14,
   "metadata": {},
   "outputs": [
    {
     "name": "stdout",
     "output_type": "stream",
     "text": [
      "0.4674887892376682\n",
      "0.5325112107623319\n",
      "0.09594021409816199\n",
      "0.904059785901838\n"
     ]
    }
   ],
   "source": [
    "# Printing our probabilities for 2x2 transition matrix:\n",
    "print(R_after_R_prob)\n",
    "print(N_after_R_prob)\n",
    "print(R_after_N_prob)\n",
    "print(N_after_N_prob)"
   ]
  },
  {
   "cell_type": "code",
   "execution_count": 15,
   "metadata": {},
   "outputs": [
    {
     "name": "stdout",
     "output_type": "stream",
     "text": [
      "1.0\n",
      "1.0\n"
     ]
    }
   ],
   "source": [
    "# Checking that each row in the transition matrix adds up to 1:\n",
    "print(R_after_R_prob + N_after_R_prob)\n",
    "print(R_after_N_prob + N_after_N_prob)"
   ]
  },
  {
   "cell_type": "code",
   "execution_count": 16,
   "metadata": {},
   "outputs": [
    {
     "name": "stdout",
     "output_type": "stream",
     "text": [
      "[[0.4674887892376682, 0.5325112107623319], [0.09594021409816199, 0.904059785901838]]\n"
     ]
    }
   ],
   "source": [
    "# Creating the transition matrix:\n",
    "transition_name = [['RR', 'RN'], ['RN', 'NN']]\n",
    "transition_matrix = [[R_after_R_prob, N_after_R_prob], [R_after_N_prob, N_after_N_prob]]\n",
    "print(transition_matrix)"
   ]
  },
  {
   "cell_type": "code",
   "execution_count": 17,
   "metadata": {},
   "outputs": [
    {
     "name": "stdout",
     "output_type": "stream",
     "text": [
      "[[0.46748879 0.53251121]\n",
      " [0.09594021 0.90405979]]\n"
     ]
    }
   ],
   "source": [
    "t_array = np.array(transition_matrix)\n",
    "print(t_array)"
   ]
  },
  {
   "cell_type": "markdown",
   "metadata": {},
   "source": [
    "First Day of 2018: No Rain"
   ]
  },
  {
   "cell_type": "code",
   "execution_count": 18,
   "metadata": {},
   "outputs": [],
   "source": [
    "def predict_weather_simplified(test_data):\n",
    "    state = {0:'rain', 1:'no_rain'}\n",
    "    n = len(test_data) #how many steps to test\n",
    "    start_state = 1 #1 = No Rain\n",
    "    test_result = test_data.copy()\n",
    "\n",
    "    prev_state = start_state\n",
    "    result = []\n",
    "    result.append(state[start_state])\n",
    "    while n-1:\n",
    "        curr_state = np.random.choice([0,1], p=t_array[prev_state]) #taking the probability from the transition matrix\n",
    "        result.append(state[curr_state])\n",
    "        prev_state = curr_state\n",
    "        n -= 1\n",
    "\n",
    "    # curr_state = np.random.choice([0,1], p=t_array[prev_state]) #taking the probability from the transition matrix\n",
    "    # result.append(state[curr_state])\n",
    "\n",
    "    test_result['predicted_condition'] = result\n",
    "\n",
    "    return test_result\n",
    "\n",
    "def find_accuracy(predicted_result):\n",
    "    correct_count = 0.0\n",
    "\n",
    "    for i in range(len(predicted_result)):\n",
    "        if predicted_result.loc[i, 'condition'] == predicted_result.loc[i, 'predicted_condition']:\n",
    "            correct_count += 1\n",
    "\n",
    "    correct_prop = correct_count / len(predicted_result)\n",
    "\n",
    "    return correct_prop\n",
    "\n",
    "def run_predictions_return_avg_accuracy(test_data, trial_count):\n",
    "    accuracy_sum = 0.0\n",
    "    for i in range(trial_count):\n",
    "        predicted_result = predict_weather_simplified(test_data)\n",
    "        accuracy = find_accuracy(predicted_result)\n",
    "        accuracy_sum += accuracy\n",
    "    avg_accuracy = accuracy_sum / trial_count\n",
    "\n",
    "    return avg_accuracy"
   ]
  },
  {
   "cell_type": "code",
   "execution_count": 19,
   "metadata": {},
   "outputs": [
    {
     "name": "stdout",
     "output_type": "stream",
     "text": [
      "   index    datetime condition predicted_condition\n",
      "0   6575  2018-01-01   no_rain             no_rain\n",
      "1   6576  2018-01-02   no_rain             no_rain\n",
      "2   6577  2018-01-03      rain                rain\n",
      "3   6578  2018-01-04      rain                rain\n",
      "4   6579  2018-01-05   no_rain                rain\n",
      "0.4414784394250513\n"
     ]
    }
   ],
   "source": [
    "# Sample prediction (for table graphic)\n",
    "\n",
    "sample_prediction = predict_weather_simplified(all_seasons_NYU_test)\n",
    "sample_accuracy = find_accuracy(sample_prediction)\n",
    "print(sample_prediction.head())\n",
    "print(sample_accuracy)"
   ]
  },
  {
   "cell_type": "code",
   "execution_count": 20,
   "metadata": {},
   "outputs": [
    {
     "data": {
      "text/plain": [
       "0.4355099247091032"
      ]
     },
     "execution_count": 20,
     "metadata": {},
     "output_type": "execute_result"
    }
   ],
   "source": [
    "run_predictions_return_avg_accuracy(all_seasons_NYU_test, 100)"
   ]
  }
 ],
 "metadata": {
  "kernelspec": {
   "display_name": "Python 3 (ipykernel)",
   "language": "python",
   "name": "python3"
  },
  "language_info": {
   "codemirror_mode": {
    "name": "ipython",
    "version": 3
   },
   "file_extension": ".py",
   "mimetype": "text/x-python",
   "name": "python",
   "nbconvert_exporter": "python",
   "pygments_lexer": "ipython3",
   "version": "3.9.12"
  },
  "vscode": {
   "interpreter": {
    "hash": "78adb8089f1b1ad0b7743184fb6585d3ffc1b6fb4a355aad49fe7003845e53d4"
   }
  }
 },
 "nbformat": 4,
 "nbformat_minor": 4
}
