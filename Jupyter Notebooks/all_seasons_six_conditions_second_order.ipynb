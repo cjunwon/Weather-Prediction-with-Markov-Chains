{
 "cells": [
  {
   "cell_type": "markdown",
   "metadata": {},
   "source": [
    "# All Seasons - 6 different weather conditions(long time frame - Second-Order Markov Chain)"
   ]
  },
  {
   "cell_type": "markdown",
   "metadata": {},
   "source": [
    "## Import libraries and dataset"
   ]
  },
  {
   "cell_type": "code",
   "execution_count": 1,
   "metadata": {},
   "outputs": [],
   "source": [
    "import pandas as pd\n",
    "import numpy as np\n",
    "from datetime import datetime\n",
    "date_format = \"%Y-%m-%d\""
   ]
  },
  {
   "cell_type": "code",
   "execution_count": 2,
   "metadata": {},
   "outputs": [],
   "source": [
    "all_seasons = pd.read_csv('Datasets/all_seasons.csv')\n",
    "all_seasons = all_seasons[['datetime', 'conditions']]"
   ]
  },
  {
   "cell_type": "code",
   "execution_count": 3,
   "metadata": {},
   "outputs": [
    {
     "data": {
      "text/html": [
       "<div>\n",
       "<style scoped>\n",
       "    .dataframe tbody tr th:only-of-type {\n",
       "        vertical-align: middle;\n",
       "    }\n",
       "\n",
       "    .dataframe tbody tr th {\n",
       "        vertical-align: top;\n",
       "    }\n",
       "\n",
       "    .dataframe thead th {\n",
       "        text-align: right;\n",
       "    }\n",
       "</style>\n",
       "<table border=\"1\" class=\"dataframe\">\n",
       "  <thead>\n",
       "    <tr style=\"text-align: right;\">\n",
       "      <th></th>\n",
       "      <th>datetime</th>\n",
       "      <th>conditions</th>\n",
       "    </tr>\n",
       "  </thead>\n",
       "  <tbody>\n",
       "    <tr>\n",
       "      <th>0</th>\n",
       "      <td>2000-01-01</td>\n",
       "      <td>Partially cloudy</td>\n",
       "    </tr>\n",
       "    <tr>\n",
       "      <th>1</th>\n",
       "      <td>2000-01-02</td>\n",
       "      <td>Clear</td>\n",
       "    </tr>\n",
       "    <tr>\n",
       "      <th>2</th>\n",
       "      <td>2000-01-03</td>\n",
       "      <td>Clear</td>\n",
       "    </tr>\n",
       "    <tr>\n",
       "      <th>3</th>\n",
       "      <td>2000-01-04</td>\n",
       "      <td>Clear</td>\n",
       "    </tr>\n",
       "    <tr>\n",
       "      <th>4</th>\n",
       "      <td>2000-01-05</td>\n",
       "      <td>Clear</td>\n",
       "    </tr>\n",
       "  </tbody>\n",
       "</table>\n",
       "</div>"
      ],
      "text/plain": [
       "     datetime        conditions\n",
       "0  2000-01-01  Partially cloudy\n",
       "1  2000-01-02             Clear\n",
       "2  2000-01-03             Clear\n",
       "3  2000-01-04             Clear\n",
       "4  2000-01-05             Clear"
      ]
     },
     "execution_count": 3,
     "metadata": {},
     "output_type": "execute_result"
    }
   ],
   "source": [
    "all_seasons.head()"
   ]
  },
  {
   "cell_type": "markdown",
   "metadata": {},
   "source": [
    "## Classify and separate data"
   ]
  },
  {
   "cell_type": "code",
   "execution_count": 4,
   "metadata": {},
   "outputs": [],
   "source": [
    "classifier = {'Overcast':'overcast', 'Partially cloudy':'partially_cloudy', 'Clear':'clear', 'Rain, Partially cloudy':'rain_partially_cloudy', 'Rain':'rain', 'Rain, Overcast':'rain_overcast'}\n",
    "\n",
    "all_seasons['condition'] = all_seasons['conditions'].map(classifier)"
   ]
  },
  {
   "cell_type": "code",
   "execution_count": 5,
   "metadata": {},
   "outputs": [
    {
     "data": {
      "text/html": [
       "<div>\n",
       "<style scoped>\n",
       "    .dataframe tbody tr th:only-of-type {\n",
       "        vertical-align: middle;\n",
       "    }\n",
       "\n",
       "    .dataframe tbody tr th {\n",
       "        vertical-align: top;\n",
       "    }\n",
       "\n",
       "    .dataframe thead th {\n",
       "        text-align: right;\n",
       "    }\n",
       "</style>\n",
       "<table border=\"1\" class=\"dataframe\">\n",
       "  <thead>\n",
       "    <tr style=\"text-align: right;\">\n",
       "      <th></th>\n",
       "      <th>datetime</th>\n",
       "      <th>conditions</th>\n",
       "      <th>condition</th>\n",
       "    </tr>\n",
       "  </thead>\n",
       "  <tbody>\n",
       "    <tr>\n",
       "      <th>0</th>\n",
       "      <td>2000-01-01</td>\n",
       "      <td>Partially cloudy</td>\n",
       "      <td>partially_cloudy</td>\n",
       "    </tr>\n",
       "    <tr>\n",
       "      <th>1</th>\n",
       "      <td>2000-01-02</td>\n",
       "      <td>Clear</td>\n",
       "      <td>clear</td>\n",
       "    </tr>\n",
       "    <tr>\n",
       "      <th>2</th>\n",
       "      <td>2000-01-03</td>\n",
       "      <td>Clear</td>\n",
       "      <td>clear</td>\n",
       "    </tr>\n",
       "    <tr>\n",
       "      <th>3</th>\n",
       "      <td>2000-01-04</td>\n",
       "      <td>Clear</td>\n",
       "      <td>clear</td>\n",
       "    </tr>\n",
       "    <tr>\n",
       "      <th>4</th>\n",
       "      <td>2000-01-05</td>\n",
       "      <td>Clear</td>\n",
       "      <td>clear</td>\n",
       "    </tr>\n",
       "  </tbody>\n",
       "</table>\n",
       "</div>"
      ],
      "text/plain": [
       "     datetime        conditions         condition\n",
       "0  2000-01-01  Partially cloudy  partially_cloudy\n",
       "1  2000-01-02             Clear             clear\n",
       "2  2000-01-03             Clear             clear\n",
       "3  2000-01-04             Clear             clear\n",
       "4  2000-01-05             Clear             clear"
      ]
     },
     "execution_count": 5,
     "metadata": {},
     "output_type": "execute_result"
    }
   ],
   "source": [
    "all_seasons.head()"
   ]
  },
  {
   "cell_type": "code",
   "execution_count": 6,
   "metadata": {},
   "outputs": [],
   "source": [
    "all_seasons = all_seasons[['datetime', 'condition']]"
   ]
  },
  {
   "cell_type": "code",
   "execution_count": 7,
   "metadata": {},
   "outputs": [
    {
     "data": {
      "text/html": [
       "<div>\n",
       "<style scoped>\n",
       "    .dataframe tbody tr th:only-of-type {\n",
       "        vertical-align: middle;\n",
       "    }\n",
       "\n",
       "    .dataframe tbody tr th {\n",
       "        vertical-align: top;\n",
       "    }\n",
       "\n",
       "    .dataframe thead th {\n",
       "        text-align: right;\n",
       "    }\n",
       "</style>\n",
       "<table border=\"1\" class=\"dataframe\">\n",
       "  <thead>\n",
       "    <tr style=\"text-align: right;\">\n",
       "      <th></th>\n",
       "      <th>datetime</th>\n",
       "      <th>condition</th>\n",
       "    </tr>\n",
       "  </thead>\n",
       "  <tbody>\n",
       "    <tr>\n",
       "      <th>0</th>\n",
       "      <td>2000-01-01</td>\n",
       "      <td>partially_cloudy</td>\n",
       "    </tr>\n",
       "    <tr>\n",
       "      <th>1</th>\n",
       "      <td>2000-01-02</td>\n",
       "      <td>clear</td>\n",
       "    </tr>\n",
       "    <tr>\n",
       "      <th>2</th>\n",
       "      <td>2000-01-03</td>\n",
       "      <td>clear</td>\n",
       "    </tr>\n",
       "    <tr>\n",
       "      <th>3</th>\n",
       "      <td>2000-01-04</td>\n",
       "      <td>clear</td>\n",
       "    </tr>\n",
       "    <tr>\n",
       "      <th>4</th>\n",
       "      <td>2000-01-05</td>\n",
       "      <td>clear</td>\n",
       "    </tr>\n",
       "  </tbody>\n",
       "</table>\n",
       "</div>"
      ],
      "text/plain": [
       "     datetime         condition\n",
       "0  2000-01-01  partially_cloudy\n",
       "1  2000-01-02             clear\n",
       "2  2000-01-03             clear\n",
       "3  2000-01-04             clear\n",
       "4  2000-01-05             clear"
      ]
     },
     "execution_count": 7,
     "metadata": {},
     "output_type": "execute_result"
    }
   ],
   "source": [
    "all_seasons.head()"
   ]
  },
  {
   "cell_type": "code",
   "execution_count": 8,
   "metadata": {},
   "outputs": [],
   "source": [
    "train_start_date = '2002-01-01'\n",
    "train_end_date = '2017-12-31'\n",
    "all_seasons_train = all_seasons.loc[all_seasons['datetime'].between(train_start_date, train_end_date)]\n",
    "all_seasons_train = all_seasons_train.reset_index()\n",
    "\n",
    "test_start_date = '2018-01-01'\n",
    "test_end_date = '2021-12-31'\n",
    "all_seasons_test = all_seasons.loc[all_seasons['datetime'].between(test_start_date, test_end_date)]\n",
    "all_seasons_test = all_seasons_test.reset_index()"
   ]
  },
  {
   "cell_type": "markdown",
   "metadata": {},
   "source": [
    "## Calculate proportions of conditions & Create transition matrix"
   ]
  },
  {
   "cell_type": "code",
   "execution_count": 9,
   "metadata": {},
   "outputs": [
    {
     "data": {
      "text/plain": [
       "['clear->clear',\n",
       " 'clear->partially_cloudy',\n",
       " 'clear->overcast',\n",
       " 'clear->rain',\n",
       " 'clear->rain_partially_cloudy',\n",
       " 'clear->rain_overcast',\n",
       " 'partially_cloudy->clear',\n",
       " 'partially_cloudy->partially_cloudy',\n",
       " 'partially_cloudy->overcast',\n",
       " 'partially_cloudy->rain',\n",
       " 'partially_cloudy->rain_partially_cloudy',\n",
       " 'partially_cloudy->rain_overcast',\n",
       " 'overcast->clear',\n",
       " 'overcast->partially_cloudy',\n",
       " 'overcast->overcast',\n",
       " 'overcast->rain',\n",
       " 'overcast->rain_partially_cloudy',\n",
       " 'overcast->rain_overcast',\n",
       " 'rain->clear',\n",
       " 'rain->partially_cloudy',\n",
       " 'rain->overcast',\n",
       " 'rain->rain',\n",
       " 'rain->rain_partially_cloudy',\n",
       " 'rain->rain_overcast',\n",
       " 'rain_partially_cloudy->clear',\n",
       " 'rain_partially_cloudy->partially_cloudy',\n",
       " 'rain_partially_cloudy->overcast',\n",
       " 'rain_partially_cloudy->rain',\n",
       " 'rain_partially_cloudy->rain_partially_cloudy',\n",
       " 'rain_partially_cloudy->rain_overcast',\n",
       " 'rain_overcast->clear',\n",
       " 'rain_overcast->partially_cloudy',\n",
       " 'rain_overcast->overcast',\n",
       " 'rain_overcast->rain',\n",
       " 'rain_overcast->rain_partially_cloudy',\n",
       " 'rain_overcast->rain_overcast']"
      ]
     },
     "execution_count": 9,
     "metadata": {},
     "output_type": "execute_result"
    }
   ],
   "source": [
    "# Initialize count variables\n",
    "\n",
    "# 0: 'clear' - C\n",
    "# 1: 'partially_cloudy' - PC\n",
    "# 2: 'overcast' - OV\n",
    "# 3: 'rain' - R\n",
    "# 4: 'rain_partially_cloudy' - RPC\n",
    "# 5: 'rain_overcast' - ROV\n",
    "\n",
    "conditions = ['clear', 'partially_cloudy', 'overcast', 'rain', 'rain_partially_cloudy', 'rain_overcast']\n",
    "prev_conditions = [f\"{state_0}->{state_1}\" for state_0 in conditions for state_1 in conditions]\n",
    "prev_conditions"
   ]
  },
  {
   "cell_type": "code",
   "execution_count": 10,
   "metadata": {},
   "outputs": [
    {
     "data": {
      "text/html": [
       "<div>\n",
       "<style scoped>\n",
       "    .dataframe tbody tr th:only-of-type {\n",
       "        vertical-align: middle;\n",
       "    }\n",
       "\n",
       "    .dataframe tbody tr th {\n",
       "        vertical-align: top;\n",
       "    }\n",
       "\n",
       "    .dataframe thead th {\n",
       "        text-align: right;\n",
       "    }\n",
       "</style>\n",
       "<table border=\"1\" class=\"dataframe\">\n",
       "  <thead>\n",
       "    <tr style=\"text-align: right;\">\n",
       "      <th></th>\n",
       "      <th>index</th>\n",
       "      <th>datetime</th>\n",
       "      <th>condition</th>\n",
       "      <th>prev_states</th>\n",
       "    </tr>\n",
       "  </thead>\n",
       "  <tbody>\n",
       "    <tr>\n",
       "      <th>0</th>\n",
       "      <td>731</td>\n",
       "      <td>2002-01-01</td>\n",
       "      <td>partially_cloudy</td>\n",
       "      <td>NaN</td>\n",
       "    </tr>\n",
       "    <tr>\n",
       "      <th>1</th>\n",
       "      <td>732</td>\n",
       "      <td>2002-01-02</td>\n",
       "      <td>rain_partially_cloudy</td>\n",
       "      <td>NaN</td>\n",
       "    </tr>\n",
       "    <tr>\n",
       "      <th>2</th>\n",
       "      <td>733</td>\n",
       "      <td>2002-01-03</td>\n",
       "      <td>rain_partially_cloudy</td>\n",
       "      <td>partially_cloudy-&gt;rain_partially_cloudy</td>\n",
       "    </tr>\n",
       "    <tr>\n",
       "      <th>3</th>\n",
       "      <td>734</td>\n",
       "      <td>2002-01-04</td>\n",
       "      <td>partially_cloudy</td>\n",
       "      <td>rain_partially_cloudy-&gt;rain_partially_cloudy</td>\n",
       "    </tr>\n",
       "    <tr>\n",
       "      <th>4</th>\n",
       "      <td>735</td>\n",
       "      <td>2002-01-05</td>\n",
       "      <td>partially_cloudy</td>\n",
       "      <td>rain_partially_cloudy-&gt;partially_cloudy</td>\n",
       "    </tr>\n",
       "    <tr>\n",
       "      <th>...</th>\n",
       "      <td>...</td>\n",
       "      <td>...</td>\n",
       "      <td>...</td>\n",
       "      <td>...</td>\n",
       "    </tr>\n",
       "    <tr>\n",
       "      <th>5839</th>\n",
       "      <td>6570</td>\n",
       "      <td>2017-12-27</td>\n",
       "      <td>clear</td>\n",
       "      <td>clear-&gt;clear</td>\n",
       "    </tr>\n",
       "    <tr>\n",
       "      <th>5840</th>\n",
       "      <td>6571</td>\n",
       "      <td>2017-12-28</td>\n",
       "      <td>clear</td>\n",
       "      <td>clear-&gt;clear</td>\n",
       "    </tr>\n",
       "    <tr>\n",
       "      <th>5841</th>\n",
       "      <td>6572</td>\n",
       "      <td>2017-12-29</td>\n",
       "      <td>clear</td>\n",
       "      <td>clear-&gt;clear</td>\n",
       "    </tr>\n",
       "    <tr>\n",
       "      <th>5842</th>\n",
       "      <td>6573</td>\n",
       "      <td>2017-12-30</td>\n",
       "      <td>partially_cloudy</td>\n",
       "      <td>clear-&gt;clear</td>\n",
       "    </tr>\n",
       "    <tr>\n",
       "      <th>5843</th>\n",
       "      <td>6574</td>\n",
       "      <td>2017-12-31</td>\n",
       "      <td>partially_cloudy</td>\n",
       "      <td>clear-&gt;partially_cloudy</td>\n",
       "    </tr>\n",
       "  </tbody>\n",
       "</table>\n",
       "<p>5844 rows × 4 columns</p>\n",
       "</div>"
      ],
      "text/plain": [
       "      index    datetime              condition  \\\n",
       "0       731  2002-01-01       partially_cloudy   \n",
       "1       732  2002-01-02  rain_partially_cloudy   \n",
       "2       733  2002-01-03  rain_partially_cloudy   \n",
       "3       734  2002-01-04       partially_cloudy   \n",
       "4       735  2002-01-05       partially_cloudy   \n",
       "...     ...         ...                    ...   \n",
       "5839   6570  2017-12-27                  clear   \n",
       "5840   6571  2017-12-28                  clear   \n",
       "5841   6572  2017-12-29                  clear   \n",
       "5842   6573  2017-12-30       partially_cloudy   \n",
       "5843   6574  2017-12-31       partially_cloudy   \n",
       "\n",
       "                                       prev_states  \n",
       "0                                              NaN  \n",
       "1                                              NaN  \n",
       "2          partially_cloudy->rain_partially_cloudy  \n",
       "3     rain_partially_cloudy->rain_partially_cloudy  \n",
       "4          rain_partially_cloudy->partially_cloudy  \n",
       "...                                            ...  \n",
       "5839                                  clear->clear  \n",
       "5840                                  clear->clear  \n",
       "5841                                  clear->clear  \n",
       "5842                                  clear->clear  \n",
       "5843                       clear->partially_cloudy  \n",
       "\n",
       "[5844 rows x 4 columns]"
      ]
     },
     "execution_count": 10,
     "metadata": {},
     "output_type": "execute_result"
    }
   ],
   "source": [
    "# Adding a column to identify past two states\n",
    "\n",
    "for i in range(2, len(all_seasons_train)):\n",
    "    state_0 = all_seasons_train.loc[i-2, 'condition']\n",
    "    state_1 = all_seasons_train.loc[i-1, 'condition']\n",
    "    all_seasons_train.loc[i, 'prev_states'] = f\"{state_0}->{state_1}\"\n",
    "    \n",
    "all_seasons_train"
   ]
  },
  {
   "cell_type": "code",
   "execution_count": 11,
   "metadata": {},
   "outputs": [
    {
     "data": {
      "text/plain": [
       "array([[1.174e+03, 4.200e+02, 2.000e+00, 3.200e+01, 7.900e+01, 6.000e+00],\n",
       "       [1.400e+02, 3.510e+02, 1.200e+01, 5.000e+00, 6.700e+01, 1.500e+01],\n",
       "       [1.000e+00, 2.000e+00, 0.000e+00, 0.000e+00, 0.000e+00, 0.000e+00],\n",
       "       [3.300e+01, 8.000e+00, 0.000e+00, 8.000e+00, 4.000e+00, 0.000e+00],\n",
       "       [3.000e+01, 2.700e+01, 0.000e+00, 1.100e+01, 4.000e+01, 1.000e+01],\n",
       "       [2.000e+00, 0.000e+00, 0.000e+00, 0.000e+00, 4.000e+00, 1.000e+00],\n",
       "       [3.440e+02, 1.170e+02, 1.000e+00, 1.200e+01, 2.100e+01, 0.000e+00],\n",
       "       [2.900e+02, 1.027e+03, 5.600e+01, 1.500e+01, 9.600e+01, 2.300e+01],\n",
       "       [1.000e+00, 5.300e+01, 1.100e+01, 0.000e+00, 1.000e+01, 6.000e+00],\n",
       "       [1.800e+01, 5.000e+00, 0.000e+00, 3.000e+00, 5.000e+00, 0.000e+00],\n",
       "       [5.800e+01, 5.600e+01, 3.000e+00, 5.000e+00, 6.800e+01, 1.000e+01],\n",
       "       [6.000e+00, 9.000e+00, 0.000e+00, 2.000e+00, 2.200e+01, 4.000e+00],\n",
       "       [2.000e+00, 0.000e+00, 0.000e+00, 0.000e+00, 0.000e+00, 0.000e+00],\n",
       "       [1.500e+01, 4.100e+01, 1.000e+00, 1.000e+00, 7.000e+00, 2.000e+00],\n",
       "       [0.000e+00, 9.000e+00, 4.000e+00, 0.000e+00, 2.000e+00, 2.000e+00],\n",
       "       [0.000e+00, 0.000e+00, 0.000e+00, 0.000e+00, 0.000e+00, 0.000e+00],\n",
       "       [7.000e+00, 3.000e+00, 0.000e+00, 0.000e+00, 3.000e+00, 2.000e+00],\n",
       "       [0.000e+00, 1.000e+00, 1.000e+00, 0.000e+00, 3.000e+00, 3.000e+00],\n",
       "       [5.900e+01, 1.500e+01, 0.000e+00, 3.000e+00, 6.000e+00, 1.000e+00],\n",
       "       [8.000e+00, 9.000e+00, 1.000e+00, 0.000e+00, 3.000e+00, 0.000e+00],\n",
       "       [0.000e+00, 0.000e+00, 0.000e+00, 0.000e+00, 0.000e+00, 0.000e+00],\n",
       "       [1.000e+01, 3.000e+00, 0.000e+00, 4.000e+00, 4.000e+00, 0.000e+00],\n",
       "       [3.000e+00, 6.000e+00, 0.000e+00, 0.000e+00, 8.000e+00, 1.000e+00],\n",
       "       [0.000e+00, 0.000e+00, 0.000e+00, 0.000e+00, 1.000e+00, 0.000e+00],\n",
       "       [1.280e+02, 3.600e+01, 0.000e+00, 5.000e+00, 1.200e+01, 0.000e+00],\n",
       "       [3.900e+01, 7.400e+01, 1.000e+01, 8.000e+00, 2.400e+01, 2.000e+00],\n",
       "       [0.000e+00, 2.000e+00, 1.000e+00, 0.000e+00, 2.000e+00, 0.000e+00],\n",
       "       [1.900e+01, 5.000e+00, 0.000e+00, 6.000e+00, 5.000e+00, 1.000e+00],\n",
       "       [6.500e+01, 4.800e+01, 2.000e+00, 1.500e+01, 7.100e+01, 7.000e+00],\n",
       "       [1.000e+00, 1.000e+00, 2.000e+00, 2.000e+00, 1.200e+01, 1.500e+01],\n",
       "       [6.000e+00, 2.000e+00, 0.000e+00, 1.000e+00, 0.000e+00, 0.000e+00],\n",
       "       [3.000e+00, 6.000e+00, 1.000e+00, 2.000e+00, 2.000e+00, 1.000e+00],\n",
       "       [0.000e+00, 1.000e+00, 1.000e+00, 0.000e+00, 1.000e+00, 0.000e+00],\n",
       "       [4.000e+00, 0.000e+00, 0.000e+00, 0.000e+00, 0.000e+00, 0.000e+00],\n",
       "       [1.800e+01, 1.700e+01, 0.000e+00, 5.000e+00, 1.800e+01, 3.000e+00],\n",
       "       [0.000e+00, 4.000e+00, 0.000e+00, 0.000e+00, 1.900e+01, 1.200e+01]])"
      ]
     },
     "execution_count": 11,
     "metadata": {},
     "output_type": "execute_result"
    }
   ],
   "source": [
    "# Creating a count matrix \n",
    "# transition_counts = prev_conditions x conditions matrix\n",
    "\n",
    "transition_counts = np.zeros((len(prev_conditions), len(conditions)))\n",
    "\n",
    "for i in range(len(transition_counts)):\n",
    "    for j in range(len(transition_counts[0])):\n",
    "        transition_counts[i][j] = len(all_seasons_train[(all_seasons_train.condition == conditions[j]) & (all_seasons_train.prev_states == prev_conditions[i])])\n",
    "\n",
    "transition_counts"
   ]
  },
  {
   "cell_type": "code",
   "execution_count": 12,
   "metadata": {},
   "outputs": [
    {
     "data": {
      "text/plain": [
       "array([[0.68534734, 0.24518389, 0.00116754, 0.01868068, 0.04611792,\n",
       "        0.00350263],\n",
       "       [0.23728814, 0.59491525, 0.02033898, 0.00847458, 0.11355932,\n",
       "        0.02542373],\n",
       "       [0.33333333, 0.66666667, 0.        , 0.        , 0.        ,\n",
       "        0.        ],\n",
       "       [0.62264151, 0.1509434 , 0.        , 0.1509434 , 0.0754717 ,\n",
       "        0.        ],\n",
       "       [0.25423729, 0.22881356, 0.        , 0.09322034, 0.33898305,\n",
       "        0.08474576],\n",
       "       [0.28571429, 0.        , 0.        , 0.        , 0.57142857,\n",
       "        0.14285714],\n",
       "       [0.69494949, 0.23636364, 0.0020202 , 0.02424242, 0.04242424,\n",
       "        0.        ],\n",
       "       [0.1924353 , 0.6814864 , 0.03715992, 0.00995355, 0.06370272,\n",
       "        0.01526211],\n",
       "       [0.01234568, 0.65432099, 0.13580247, 0.        , 0.12345679,\n",
       "        0.07407407],\n",
       "       [0.58064516, 0.16129032, 0.        , 0.09677419, 0.16129032,\n",
       "        0.        ],\n",
       "       [0.29      , 0.28      , 0.015     , 0.025     , 0.34      ,\n",
       "        0.05      ],\n",
       "       [0.13953488, 0.20930233, 0.        , 0.04651163, 0.51162791,\n",
       "        0.09302326],\n",
       "       [1.        , 0.        , 0.        , 0.        , 0.        ,\n",
       "        0.        ],\n",
       "       [0.2238806 , 0.6119403 , 0.01492537, 0.01492537, 0.10447761,\n",
       "        0.02985075],\n",
       "       [0.        , 0.52941176, 0.23529412, 0.        , 0.11764706,\n",
       "        0.11764706],\n",
       "       [0.        , 0.        , 0.        , 0.        , 0.        ,\n",
       "        0.        ],\n",
       "       [0.46666667, 0.2       , 0.        , 0.        , 0.2       ,\n",
       "        0.13333333],\n",
       "       [0.        , 0.125     , 0.125     , 0.        , 0.375     ,\n",
       "        0.375     ],\n",
       "       [0.70238095, 0.17857143, 0.        , 0.03571429, 0.07142857,\n",
       "        0.01190476],\n",
       "       [0.38095238, 0.42857143, 0.04761905, 0.        , 0.14285714,\n",
       "        0.        ],\n",
       "       [0.        , 0.        , 0.        , 0.        , 0.        ,\n",
       "        0.        ],\n",
       "       [0.47619048, 0.14285714, 0.        , 0.19047619, 0.19047619,\n",
       "        0.        ],\n",
       "       [0.16666667, 0.33333333, 0.        , 0.        , 0.44444444,\n",
       "        0.05555556],\n",
       "       [0.        , 0.        , 0.        , 0.        , 1.        ,\n",
       "        0.        ],\n",
       "       [0.70718232, 0.19889503, 0.        , 0.02762431, 0.06629834,\n",
       "        0.        ],\n",
       "       [0.24840764, 0.47133758, 0.06369427, 0.05095541, 0.15286624,\n",
       "        0.01273885],\n",
       "       [0.        , 0.4       , 0.2       , 0.        , 0.4       ,\n",
       "        0.        ],\n",
       "       [0.52777778, 0.13888889, 0.        , 0.16666667, 0.13888889,\n",
       "        0.02777778],\n",
       "       [0.3125    , 0.23076923, 0.00961538, 0.07211538, 0.34134615,\n",
       "        0.03365385],\n",
       "       [0.03030303, 0.03030303, 0.06060606, 0.06060606, 0.36363636,\n",
       "        0.45454545],\n",
       "       [0.66666667, 0.22222222, 0.        , 0.11111111, 0.        ,\n",
       "        0.        ],\n",
       "       [0.2       , 0.4       , 0.06666667, 0.13333333, 0.13333333,\n",
       "        0.06666667],\n",
       "       [0.        , 0.33333333, 0.33333333, 0.        , 0.33333333,\n",
       "        0.        ],\n",
       "       [1.        , 0.        , 0.        , 0.        , 0.        ,\n",
       "        0.        ],\n",
       "       [0.29508197, 0.27868852, 0.        , 0.08196721, 0.29508197,\n",
       "        0.04918033],\n",
       "       [0.        , 0.11428571, 0.        , 0.        , 0.54285714,\n",
       "        0.34285714]])"
      ]
     },
     "execution_count": 12,
     "metadata": {},
     "output_type": "execute_result"
    }
   ],
   "source": [
    "# Turning count matrix into proportions by normalizing across rows\n",
    "\n",
    "def normalize(arr):\n",
    "    total = sum(arr)\n",
    "    if total == 0:\n",
    "        return arr\n",
    "    return arr / total\n",
    "\n",
    "transition_prob = np.apply_along_axis(normalize, 1, transition_counts)\n",
    "transition_prob"
   ]
  },
  {
   "cell_type": "code",
   "execution_count": 13,
   "metadata": {},
   "outputs": [
    {
     "data": {
      "text/plain": [
       "array([1., 1., 1., 1., 1., 1., 1., 1., 1., 1., 1., 1., 1., 1., 1., 0., 1.,\n",
       "       1., 1., 1., 0., 1., 1., 1., 1., 1., 1., 1., 1., 1., 1., 1., 1., 1.,\n",
       "       1., 1.])"
      ]
     },
     "execution_count": 13,
     "metadata": {},
     "output_type": "execute_result"
    }
   ],
   "source": [
    "# Verifying rows sum to 1\n",
    "np.apply_along_axis(sum, 1, transition_prob)"
   ]
  },
  {
   "cell_type": "code",
   "execution_count": 14,
   "metadata": {},
   "outputs": [
    {
     "data": {
      "text/html": [
       "<div>\n",
       "<style scoped>\n",
       "    .dataframe tbody tr th:only-of-type {\n",
       "        vertical-align: middle;\n",
       "    }\n",
       "\n",
       "    .dataframe tbody tr th {\n",
       "        vertical-align: top;\n",
       "    }\n",
       "\n",
       "    .dataframe thead th {\n",
       "        text-align: right;\n",
       "    }\n",
       "</style>\n",
       "<table border=\"1\" class=\"dataframe\">\n",
       "  <thead>\n",
       "    <tr style=\"text-align: right;\">\n",
       "      <th></th>\n",
       "      <th>index</th>\n",
       "      <th>datetime</th>\n",
       "      <th>condition</th>\n",
       "    </tr>\n",
       "  </thead>\n",
       "  <tbody>\n",
       "    <tr>\n",
       "      <th>0</th>\n",
       "      <td>6575</td>\n",
       "      <td>2018-01-01</td>\n",
       "      <td>clear</td>\n",
       "    </tr>\n",
       "  </tbody>\n",
       "</table>\n",
       "</div>"
      ],
      "text/plain": [
       "   index    datetime condition\n",
       "0   6575  2018-01-01     clear"
      ]
     },
     "execution_count": 14,
     "metadata": {},
     "output_type": "execute_result"
    }
   ],
   "source": [
    "all_seasons_test.head(1)"
   ]
  },
  {
   "cell_type": "markdown",
   "metadata": {},
   "source": [
    "First day of 2018: clear"
   ]
  },
  {
   "cell_type": "markdown",
   "metadata": {},
   "source": [
    "## Below cells are commented out to avoid errors when running"
   ]
  },
  {
   "cell_type": "raw",
   "metadata": {},
   "source": [
    "def predict_weather_six_conditions(test_data):\n",
    "    state = {0:'clear', 1:'partially_cloudy', 2:'overcast', 3:'rain', 4:'rain_partially_cloudy', 5:'rain_overcast'}\n",
    "    n = len(test_data) # how many steps to test\n",
    "    start_state = 0 # 0 = clear\n",
    "    test_result = test_data.copy()\n",
    "\n",
    "    prev_state = start_state\n",
    "    result = []\n",
    "    while n-1:\n",
    "        curr_state = np.random.choice([0,1,2,3,4,5], p=t_array[prev_state]) #taking the probability from the transition matrix\n",
    "        result.append(state[curr_state])\n",
    "        prev_state = curr_state\n",
    "        n -= 1\n",
    "\n",
    "    curr_state = np.random.choice([0,1,2,3,4,5], p=t_array[prev_state]) #taking the probability from the transition matrix\n",
    "    result.append(state[curr_state])\n",
    "\n",
    "    test_result['predicted_condition'] = result\n",
    "\n",
    "    return test_result\n",
    "\n",
    "def find_accuracy(predicted_result):\n",
    "    correct_count = 0.0\n",
    "\n",
    "    for i in range(len(predicted_result)):\n",
    "        if predicted_result.loc[i, 'condition'] == predicted_result.loc[i, 'predicted_condition']:\n",
    "            correct_count += 1\n",
    "\n",
    "    correct_prop = correct_count / len(predicted_result)\n",
    "\n",
    "    return correct_prop\n",
    "\n",
    "def run_predictions_return_avg_accuracy(test_data, trial_count):\n",
    "    accuracy_sum = 0.0\n",
    "    for i in range(trial_count):\n",
    "        predicted_result = predict_weather_six_conditions(test_data)\n",
    "        accuracy = find_accuracy(predicted_result)\n",
    "        accuracy_sum += accuracy\n",
    "    avg_accuracy = accuracy_sum / trial_count\n",
    "\n",
    "    return avg_accuracy"
   ]
  },
  {
   "cell_type": "raw",
   "metadata": {},
   "source": [
    "# Sample prediction (for table graphic)\n",
    "\n",
    "sample_prediction = predict_weather_six_conditions(all_seasons_test)\n",
    "sample_accuracy = find_accuracy(sample_prediction)\n",
    "print(sample_prediction.head())\n",
    "print(sample_accuracy)"
   ]
  },
  {
   "cell_type": "raw",
   "metadata": {},
   "source": [
    "run_predictions_return_avg_accuracy(all_seasons_test, 100)"
   ]
  },
  {
   "cell_type": "code",
   "execution_count": null,
   "metadata": {},
   "outputs": [],
   "source": []
  }
 ],
 "metadata": {
  "kernelspec": {
   "display_name": "Python 3 (ipykernel)",
   "language": "python",
   "name": "python3"
  },
  "language_info": {
   "codemirror_mode": {
    "name": "ipython",
    "version": 3
   },
   "file_extension": ".py",
   "mimetype": "text/x-python",
   "name": "python",
   "nbconvert_exporter": "python",
   "pygments_lexer": "ipython3",
   "version": "3.9.7 (default, Sep 16 2021, 08:50:36) \n[Clang 10.0.0 ]"
  },
  "vscode": {
   "interpreter": {
    "hash": "78adb8089f1b1ad0b7743184fb6585d3ffc1b6fb4a355aad49fe7003845e53d4"
   }
  }
 },
 "nbformat": 4,
 "nbformat_minor": 4
}
