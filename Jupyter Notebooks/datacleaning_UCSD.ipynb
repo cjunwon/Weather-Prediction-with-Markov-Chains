{
 "cells": [
  {
   "cell_type": "markdown",
   "metadata": {},
   "source": [
    "# Data Cleaning for UCSD"
   ]
  },
  {
   "cell_type": "code",
   "execution_count": 1,
   "metadata": {},
   "outputs": [],
   "source": [
    "import pandas as pd\n",
    "import numpy as np\n",
    "from datetime import datetime\n",
    "date_format = \"%Y-%m-%d\""
   ]
  },
  {
   "cell_type": "code",
   "execution_count": 3,
   "metadata": {},
   "outputs": [],
   "source": [
    "raw_data = pd.read_csv('Datasets/2000_01_01_2022_11_01_UCSD.csv')"
   ]
  },
  {
   "cell_type": "code",
   "execution_count": 4,
   "metadata": {},
   "outputs": [
    {
     "data": {
      "text/html": [
       "<div>\n",
       "<style scoped>\n",
       "    .dataframe tbody tr th:only-of-type {\n",
       "        vertical-align: middle;\n",
       "    }\n",
       "\n",
       "    .dataframe tbody tr th {\n",
       "        vertical-align: top;\n",
       "    }\n",
       "\n",
       "    .dataframe thead th {\n",
       "        text-align: right;\n",
       "    }\n",
       "</style>\n",
       "<table border=\"1\" class=\"dataframe\">\n",
       "  <thead>\n",
       "    <tr style=\"text-align: right;\">\n",
       "      <th></th>\n",
       "      <th>name</th>\n",
       "      <th>datetime</th>\n",
       "      <th>tempmax</th>\n",
       "      <th>tempmin</th>\n",
       "      <th>temp</th>\n",
       "      <th>feelslikemax</th>\n",
       "      <th>feelslikemin</th>\n",
       "      <th>feelslike</th>\n",
       "      <th>dew</th>\n",
       "      <th>humidity</th>\n",
       "      <th>...</th>\n",
       "      <th>solarenergy</th>\n",
       "      <th>uvindex</th>\n",
       "      <th>severerisk</th>\n",
       "      <th>sunrise</th>\n",
       "      <th>sunset</th>\n",
       "      <th>moonphase</th>\n",
       "      <th>conditions</th>\n",
       "      <th>description</th>\n",
       "      <th>icon</th>\n",
       "      <th>stations</th>\n",
       "    </tr>\n",
       "  </thead>\n",
       "  <tbody>\n",
       "    <tr>\n",
       "      <th>0</th>\n",
       "      <td>92093</td>\n",
       "      <td>2000-01-01</td>\n",
       "      <td>14.7</td>\n",
       "      <td>10.1</td>\n",
       "      <td>12.4</td>\n",
       "      <td>14.7</td>\n",
       "      <td>10.1</td>\n",
       "      <td>12.4</td>\n",
       "      <td>8.1</td>\n",
       "      <td>75.6</td>\n",
       "      <td>...</td>\n",
       "      <td>NaN</td>\n",
       "      <td>NaN</td>\n",
       "      <td>NaN</td>\n",
       "      <td>2000-01-01T06:50:28</td>\n",
       "      <td>2000-01-01T16:51:18</td>\n",
       "      <td>0.89</td>\n",
       "      <td>Rain, Partially cloudy</td>\n",
       "      <td>Partly cloudy throughout the day with late aft...</td>\n",
       "      <td>rain</td>\n",
       "      <td>72290693112,72290023188</td>\n",
       "    </tr>\n",
       "    <tr>\n",
       "      <th>1</th>\n",
       "      <td>92093</td>\n",
       "      <td>2000-01-02</td>\n",
       "      <td>15.1</td>\n",
       "      <td>9.6</td>\n",
       "      <td>12.9</td>\n",
       "      <td>15.1</td>\n",
       "      <td>9.6</td>\n",
       "      <td>12.9</td>\n",
       "      <td>5.8</td>\n",
       "      <td>63.1</td>\n",
       "      <td>...</td>\n",
       "      <td>NaN</td>\n",
       "      <td>NaN</td>\n",
       "      <td>NaN</td>\n",
       "      <td>2000-01-02T06:50:40</td>\n",
       "      <td>2000-01-02T16:52:02</td>\n",
       "      <td>0.93</td>\n",
       "      <td>Partially cloudy</td>\n",
       "      <td>Partly cloudy throughout the day.</td>\n",
       "      <td>partly-cloudy-day</td>\n",
       "      <td>72290693112,72290023188</td>\n",
       "    </tr>\n",
       "    <tr>\n",
       "      <th>2</th>\n",
       "      <td>92093</td>\n",
       "      <td>2000-01-03</td>\n",
       "      <td>18.9</td>\n",
       "      <td>6.6</td>\n",
       "      <td>12.1</td>\n",
       "      <td>18.9</td>\n",
       "      <td>6.6</td>\n",
       "      <td>12.1</td>\n",
       "      <td>2.5</td>\n",
       "      <td>54.9</td>\n",
       "      <td>...</td>\n",
       "      <td>NaN</td>\n",
       "      <td>NaN</td>\n",
       "      <td>NaN</td>\n",
       "      <td>2000-01-03T06:50:51</td>\n",
       "      <td>2000-01-03T16:52:48</td>\n",
       "      <td>0.96</td>\n",
       "      <td>Clear</td>\n",
       "      <td>Clear conditions throughout the day.</td>\n",
       "      <td>clear-day</td>\n",
       "      <td>72290693112,72290023188</td>\n",
       "    </tr>\n",
       "    <tr>\n",
       "      <th>3</th>\n",
       "      <td>92093</td>\n",
       "      <td>2000-01-04</td>\n",
       "      <td>18.5</td>\n",
       "      <td>7.8</td>\n",
       "      <td>13.1</td>\n",
       "      <td>18.5</td>\n",
       "      <td>6.8</td>\n",
       "      <td>12.9</td>\n",
       "      <td>3.6</td>\n",
       "      <td>54.8</td>\n",
       "      <td>...</td>\n",
       "      <td>NaN</td>\n",
       "      <td>NaN</td>\n",
       "      <td>NaN</td>\n",
       "      <td>2000-01-04T06:51:00</td>\n",
       "      <td>2000-01-04T16:53:35</td>\n",
       "      <td>0.98</td>\n",
       "      <td>Clear</td>\n",
       "      <td>Clear conditions throughout the day.</td>\n",
       "      <td>clear-day</td>\n",
       "      <td>72290693112,72290023188</td>\n",
       "    </tr>\n",
       "    <tr>\n",
       "      <th>4</th>\n",
       "      <td>92093</td>\n",
       "      <td>2000-01-05</td>\n",
       "      <td>17.1</td>\n",
       "      <td>7.3</td>\n",
       "      <td>11.7</td>\n",
       "      <td>17.1</td>\n",
       "      <td>7.3</td>\n",
       "      <td>11.7</td>\n",
       "      <td>6.0</td>\n",
       "      <td>70.0</td>\n",
       "      <td>...</td>\n",
       "      <td>NaN</td>\n",
       "      <td>NaN</td>\n",
       "      <td>NaN</td>\n",
       "      <td>2000-01-05T06:51:07</td>\n",
       "      <td>2000-01-05T16:54:22</td>\n",
       "      <td>1.00</td>\n",
       "      <td>Clear</td>\n",
       "      <td>Clear conditions throughout the day.</td>\n",
       "      <td>clear-day</td>\n",
       "      <td>72290693112,72290023188</td>\n",
       "    </tr>\n",
       "  </tbody>\n",
       "</table>\n",
       "<p>5 rows × 33 columns</p>\n",
       "</div>"
      ],
      "text/plain": [
       "    name    datetime  tempmax  tempmin  temp  feelslikemax  feelslikemin  \\\n",
       "0  92093  2000-01-01     14.7     10.1  12.4          14.7          10.1   \n",
       "1  92093  2000-01-02     15.1      9.6  12.9          15.1           9.6   \n",
       "2  92093  2000-01-03     18.9      6.6  12.1          18.9           6.6   \n",
       "3  92093  2000-01-04     18.5      7.8  13.1          18.5           6.8   \n",
       "4  92093  2000-01-05     17.1      7.3  11.7          17.1           7.3   \n",
       "\n",
       "   feelslike  dew  humidity  ...  solarenergy  uvindex  severerisk  \\\n",
       "0       12.4  8.1      75.6  ...          NaN      NaN         NaN   \n",
       "1       12.9  5.8      63.1  ...          NaN      NaN         NaN   \n",
       "2       12.1  2.5      54.9  ...          NaN      NaN         NaN   \n",
       "3       12.9  3.6      54.8  ...          NaN      NaN         NaN   \n",
       "4       11.7  6.0      70.0  ...          NaN      NaN         NaN   \n",
       "\n",
       "               sunrise               sunset  moonphase  \\\n",
       "0  2000-01-01T06:50:28  2000-01-01T16:51:18       0.89   \n",
       "1  2000-01-02T06:50:40  2000-01-02T16:52:02       0.93   \n",
       "2  2000-01-03T06:50:51  2000-01-03T16:52:48       0.96   \n",
       "3  2000-01-04T06:51:00  2000-01-04T16:53:35       0.98   \n",
       "4  2000-01-05T06:51:07  2000-01-05T16:54:22       1.00   \n",
       "\n",
       "               conditions                                        description  \\\n",
       "0  Rain, Partially cloudy  Partly cloudy throughout the day with late aft...   \n",
       "1        Partially cloudy                  Partly cloudy throughout the day.   \n",
       "2                   Clear               Clear conditions throughout the day.   \n",
       "3                   Clear               Clear conditions throughout the day.   \n",
       "4                   Clear               Clear conditions throughout the day.   \n",
       "\n",
       "                icon                 stations  \n",
       "0               rain  72290693112,72290023188  \n",
       "1  partly-cloudy-day  72290693112,72290023188  \n",
       "2          clear-day  72290693112,72290023188  \n",
       "3          clear-day  72290693112,72290023188  \n",
       "4          clear-day  72290693112,72290023188  \n",
       "\n",
       "[5 rows x 33 columns]"
      ]
     },
     "execution_count": 4,
     "metadata": {},
     "output_type": "execute_result"
    }
   ],
   "source": [
    "raw_data.head()"
   ]
  },
  {
   "cell_type": "code",
   "execution_count": 5,
   "metadata": {},
   "outputs": [
    {
     "name": "stdout",
     "output_type": "stream",
     "text": [
      "['Rain, Partially cloudy' 'Partially cloudy' 'Clear' 'Overcast' 'Rain'\n",
      " 'Rain, Overcast' 'Snow, Rain' 'Snow, Rain, Partially cloudy'\n",
      " 'Snow, Rain, Overcast' 'Snow']\n"
     ]
    }
   ],
   "source": [
    "print(raw_data.conditions.unique())"
   ]
  },
  {
   "cell_type": "code",
   "execution_count": 6,
   "metadata": {},
   "outputs": [
    {
     "name": "stdout",
     "output_type": "stream",
     "text": [
      "['rain' 'partly-cloudy-day' 'clear-day' 'cloudy' 'wind' 'snow']\n"
     ]
    }
   ],
   "source": [
    "print(raw_data.icon.unique())"
   ]
  },
  {
   "cell_type": "code",
   "execution_count": 7,
   "metadata": {},
   "outputs": [],
   "source": [
    "all_seasons = raw_data[['datetime', 'conditions']]"
   ]
  },
  {
   "cell_type": "code",
   "execution_count": 8,
   "metadata": {},
   "outputs": [
    {
     "data": {
      "text/html": [
       "<div>\n",
       "<style scoped>\n",
       "    .dataframe tbody tr th:only-of-type {\n",
       "        vertical-align: middle;\n",
       "    }\n",
       "\n",
       "    .dataframe tbody tr th {\n",
       "        vertical-align: top;\n",
       "    }\n",
       "\n",
       "    .dataframe thead th {\n",
       "        text-align: right;\n",
       "    }\n",
       "</style>\n",
       "<table border=\"1\" class=\"dataframe\">\n",
       "  <thead>\n",
       "    <tr style=\"text-align: right;\">\n",
       "      <th></th>\n",
       "      <th>datetime</th>\n",
       "      <th>conditions</th>\n",
       "    </tr>\n",
       "  </thead>\n",
       "  <tbody>\n",
       "    <tr>\n",
       "      <th>0</th>\n",
       "      <td>2000-01-01</td>\n",
       "      <td>Rain, Partially cloudy</td>\n",
       "    </tr>\n",
       "    <tr>\n",
       "      <th>1</th>\n",
       "      <td>2000-01-02</td>\n",
       "      <td>Partially cloudy</td>\n",
       "    </tr>\n",
       "    <tr>\n",
       "      <th>2</th>\n",
       "      <td>2000-01-03</td>\n",
       "      <td>Clear</td>\n",
       "    </tr>\n",
       "    <tr>\n",
       "      <th>3</th>\n",
       "      <td>2000-01-04</td>\n",
       "      <td>Clear</td>\n",
       "    </tr>\n",
       "    <tr>\n",
       "      <th>4</th>\n",
       "      <td>2000-01-05</td>\n",
       "      <td>Clear</td>\n",
       "    </tr>\n",
       "  </tbody>\n",
       "</table>\n",
       "</div>"
      ],
      "text/plain": [
       "     datetime              conditions\n",
       "0  2000-01-01  Rain, Partially cloudy\n",
       "1  2000-01-02        Partially cloudy\n",
       "2  2000-01-03                   Clear\n",
       "3  2000-01-04                   Clear\n",
       "4  2000-01-05                   Clear"
      ]
     },
     "execution_count": 8,
     "metadata": {},
     "output_type": "execute_result"
    }
   ],
   "source": [
    "all_seasons.head()"
   ]
  },
  {
   "cell_type": "code",
   "execution_count": 9,
   "metadata": {},
   "outputs": [
    {
     "name": "stderr",
     "output_type": "stream",
     "text": [
      "/var/folders/6m/88dwrhnx7m3cybxwl1p0rtq40000gn/T/ipykernel_69670/3833035098.py:1: SettingWithCopyWarning: \n",
      "A value is trying to be set on a copy of a slice from a DataFrame.\n",
      "Try using .loc[row_indexer,col_indexer] = value instead\n",
      "\n",
      "See the caveats in the documentation: https://pandas.pydata.org/pandas-docs/stable/user_guide/indexing.html#returning-a-view-versus-a-copy\n",
      "  all_seasons['datetime'] = [datetime.strptime(dt, date_format) for dt in all_seasons['datetime']]\n",
      "/var/folders/6m/88dwrhnx7m3cybxwl1p0rtq40000gn/T/ipykernel_69670/3833035098.py:2: SettingWithCopyWarning: \n",
      "A value is trying to be set on a copy of a slice from a DataFrame.\n",
      "Try using .loc[row_indexer,col_indexer] = value instead\n",
      "\n",
      "See the caveats in the documentation: https://pandas.pydata.org/pandas-docs/stable/user_guide/indexing.html#returning-a-view-versus-a-copy\n",
      "  all_seasons['quarter'] = [dt.quarter for dt in all_seasons['datetime']]\n"
     ]
    }
   ],
   "source": [
    "# all_seasons['datetime'] = [datetime.strptime(dt, date_format) for dt in all_seasons['datetime']]\n",
    "# all_seasons['quarter'] = [dt.quarter for dt in all_seasons['datetime']]"
   ]
  },
  {
   "cell_type": "code",
   "execution_count": 10,
   "metadata": {},
   "outputs": [
    {
     "data": {
      "text/plain": [
       "array([1, 2, 3, 4])"
      ]
     },
     "execution_count": 10,
     "metadata": {},
     "output_type": "execute_result"
    }
   ],
   "source": [
    "# all_seasons.quarter.unique()"
   ]
  },
  {
   "cell_type": "code",
   "execution_count": 11,
   "metadata": {},
   "outputs": [],
   "source": [
    "# winter = all_seasons[all_seasons.quarter == 1]\n",
    "# spring = all_seasons[all_seasons.quarter == 2]\n",
    "# summer = all_seasons[all_seasons.quarter == 3]\n",
    "# fall = all_seasons[all_seasons.quarter == 4]"
   ]
  },
  {
   "cell_type": "code",
   "execution_count": 12,
   "metadata": {},
   "outputs": [],
   "source": [
    "all_seasons.to_csv('Datasets/all_seasons_UCSD.csv', encoding='utf-8', index=False)\n",
    "# winter.to_csv('winter.csv', encoding='utf-8', index=False)\n",
    "# spring.to_csv('spring.csv', encoding='utf-8', index=False)\n",
    "# summer.to_csv('summer.csv', encoding='utf-8', index=False)\n",
    "# fall.to_csv('fall.csv', encoding='utf-8', index=False)"
   ]
  }
 ],
 "metadata": {
  "kernelspec": {
   "display_name": "Python 3 (ipykernel)",
   "language": "python",
   "name": "python3"
  },
  "language_info": {
   "codemirror_mode": {
    "name": "ipython",
    "version": 3
   },
   "file_extension": ".py",
   "mimetype": "text/x-python",
   "name": "python",
   "nbconvert_exporter": "python",
   "pygments_lexer": "ipython3",
   "version": "3.9.7"
  },
  "vscode": {
   "interpreter": {
    "hash": "78adb8089f1b1ad0b7743184fb6585d3ffc1b6fb4a355aad49fe7003845e53d4"
   }
  }
 },
 "nbformat": 4,
 "nbformat_minor": 4
}
