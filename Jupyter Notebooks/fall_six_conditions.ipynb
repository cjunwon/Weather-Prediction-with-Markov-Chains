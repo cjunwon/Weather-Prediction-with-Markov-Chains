{
 "cells": [
  {
   "cell_type": "markdown",
   "metadata": {},
   "source": [
    "# Fall Season - 6 different weather conditions(long time frame)"
   ]
  },
  {
   "cell_type": "markdown",
   "metadata": {},
   "source": [
    "## Import libraries and dataset"
   ]
  },
  {
   "cell_type": "code",
   "execution_count": 1,
   "metadata": {},
   "outputs": [],
   "source": [
    "import pandas as pd\n",
    "import numpy as np\n",
    "from datetime import datetime\n",
    "date_format = \"%Y-%m-%d\""
   ]
  },
  {
   "cell_type": "code",
   "execution_count": 2,
   "metadata": {},
   "outputs": [],
   "source": [
    "fall = pd.read_csv('Datasets/fall.csv')\n",
    "fall = fall[['datetime', 'conditions']]"
   ]
  },
  {
   "cell_type": "code",
   "execution_count": 3,
   "metadata": {},
   "outputs": [
    {
     "data": {
      "text/html": [
       "<div>\n",
       "<style scoped>\n",
       "    .dataframe tbody tr th:only-of-type {\n",
       "        vertical-align: middle;\n",
       "    }\n",
       "\n",
       "    .dataframe tbody tr th {\n",
       "        vertical-align: top;\n",
       "    }\n",
       "\n",
       "    .dataframe thead th {\n",
       "        text-align: right;\n",
       "    }\n",
       "</style>\n",
       "<table border=\"1\" class=\"dataframe\">\n",
       "  <thead>\n",
       "    <tr style=\"text-align: right;\">\n",
       "      <th></th>\n",
       "      <th>datetime</th>\n",
       "      <th>conditions</th>\n",
       "    </tr>\n",
       "  </thead>\n",
       "  <tbody>\n",
       "    <tr>\n",
       "      <th>0</th>\n",
       "      <td>2000-10-01</td>\n",
       "      <td>Partially cloudy</td>\n",
       "    </tr>\n",
       "    <tr>\n",
       "      <th>1</th>\n",
       "      <td>2000-10-02</td>\n",
       "      <td>Partially cloudy</td>\n",
       "    </tr>\n",
       "    <tr>\n",
       "      <th>2</th>\n",
       "      <td>2000-10-03</td>\n",
       "      <td>Partially cloudy</td>\n",
       "    </tr>\n",
       "    <tr>\n",
       "      <th>3</th>\n",
       "      <td>2000-10-04</td>\n",
       "      <td>Rain, Partially cloudy</td>\n",
       "    </tr>\n",
       "    <tr>\n",
       "      <th>4</th>\n",
       "      <td>2000-10-05</td>\n",
       "      <td>Partially cloudy</td>\n",
       "    </tr>\n",
       "  </tbody>\n",
       "</table>\n",
       "</div>"
      ],
      "text/plain": [
       "     datetime              conditions\n",
       "0  2000-10-01        Partially cloudy\n",
       "1  2000-10-02        Partially cloudy\n",
       "2  2000-10-03        Partially cloudy\n",
       "3  2000-10-04  Rain, Partially cloudy\n",
       "4  2000-10-05        Partially cloudy"
      ]
     },
     "execution_count": 3,
     "metadata": {},
     "output_type": "execute_result"
    }
   ],
   "source": [
    "fall.head()"
   ]
  },
  {
   "cell_type": "markdown",
   "metadata": {},
   "source": [
    "## Classify and separate data"
   ]
  },
  {
   "cell_type": "code",
   "execution_count": 4,
   "metadata": {},
   "outputs": [],
   "source": [
    "classifier = {'Overcast':'overcast', 'Partially cloudy':'partially_cloudy', 'Clear':'clear', 'Rain, Partially cloudy':'rain_partially_cloudy', 'Rain':'rain', 'Rain, Overcast':'rain_overcast'}\n",
    "\n",
    "fall['condition'] = fall['conditions'].map(classifier)"
   ]
  },
  {
   "cell_type": "code",
   "execution_count": 5,
   "metadata": {},
   "outputs": [
    {
     "data": {
      "text/html": [
       "<div>\n",
       "<style scoped>\n",
       "    .dataframe tbody tr th:only-of-type {\n",
       "        vertical-align: middle;\n",
       "    }\n",
       "\n",
       "    .dataframe tbody tr th {\n",
       "        vertical-align: top;\n",
       "    }\n",
       "\n",
       "    .dataframe thead th {\n",
       "        text-align: right;\n",
       "    }\n",
       "</style>\n",
       "<table border=\"1\" class=\"dataframe\">\n",
       "  <thead>\n",
       "    <tr style=\"text-align: right;\">\n",
       "      <th></th>\n",
       "      <th>datetime</th>\n",
       "      <th>conditions</th>\n",
       "      <th>condition</th>\n",
       "    </tr>\n",
       "  </thead>\n",
       "  <tbody>\n",
       "    <tr>\n",
       "      <th>0</th>\n",
       "      <td>2000-10-01</td>\n",
       "      <td>Partially cloudy</td>\n",
       "      <td>partially_cloudy</td>\n",
       "    </tr>\n",
       "    <tr>\n",
       "      <th>1</th>\n",
       "      <td>2000-10-02</td>\n",
       "      <td>Partially cloudy</td>\n",
       "      <td>partially_cloudy</td>\n",
       "    </tr>\n",
       "    <tr>\n",
       "      <th>2</th>\n",
       "      <td>2000-10-03</td>\n",
       "      <td>Partially cloudy</td>\n",
       "      <td>partially_cloudy</td>\n",
       "    </tr>\n",
       "    <tr>\n",
       "      <th>3</th>\n",
       "      <td>2000-10-04</td>\n",
       "      <td>Rain, Partially cloudy</td>\n",
       "      <td>rain_partially_cloudy</td>\n",
       "    </tr>\n",
       "    <tr>\n",
       "      <th>4</th>\n",
       "      <td>2000-10-05</td>\n",
       "      <td>Partially cloudy</td>\n",
       "      <td>partially_cloudy</td>\n",
       "    </tr>\n",
       "  </tbody>\n",
       "</table>\n",
       "</div>"
      ],
      "text/plain": [
       "     datetime              conditions              condition\n",
       "0  2000-10-01        Partially cloudy       partially_cloudy\n",
       "1  2000-10-02        Partially cloudy       partially_cloudy\n",
       "2  2000-10-03        Partially cloudy       partially_cloudy\n",
       "3  2000-10-04  Rain, Partially cloudy  rain_partially_cloudy\n",
       "4  2000-10-05        Partially cloudy       partially_cloudy"
      ]
     },
     "execution_count": 5,
     "metadata": {},
     "output_type": "execute_result"
    }
   ],
   "source": [
    "fall.head()"
   ]
  },
  {
   "cell_type": "code",
   "execution_count": 6,
   "metadata": {},
   "outputs": [],
   "source": [
    "fall = fall[['datetime', 'condition']]"
   ]
  },
  {
   "cell_type": "code",
   "execution_count": 7,
   "metadata": {},
   "outputs": [
    {
     "data": {
      "text/html": [
       "<div>\n",
       "<style scoped>\n",
       "    .dataframe tbody tr th:only-of-type {\n",
       "        vertical-align: middle;\n",
       "    }\n",
       "\n",
       "    .dataframe tbody tr th {\n",
       "        vertical-align: top;\n",
       "    }\n",
       "\n",
       "    .dataframe thead th {\n",
       "        text-align: right;\n",
       "    }\n",
       "</style>\n",
       "<table border=\"1\" class=\"dataframe\">\n",
       "  <thead>\n",
       "    <tr style=\"text-align: right;\">\n",
       "      <th></th>\n",
       "      <th>datetime</th>\n",
       "      <th>condition</th>\n",
       "    </tr>\n",
       "  </thead>\n",
       "  <tbody>\n",
       "    <tr>\n",
       "      <th>0</th>\n",
       "      <td>2000-10-01</td>\n",
       "      <td>partially_cloudy</td>\n",
       "    </tr>\n",
       "    <tr>\n",
       "      <th>1</th>\n",
       "      <td>2000-10-02</td>\n",
       "      <td>partially_cloudy</td>\n",
       "    </tr>\n",
       "    <tr>\n",
       "      <th>2</th>\n",
       "      <td>2000-10-03</td>\n",
       "      <td>partially_cloudy</td>\n",
       "    </tr>\n",
       "    <tr>\n",
       "      <th>3</th>\n",
       "      <td>2000-10-04</td>\n",
       "      <td>rain_partially_cloudy</td>\n",
       "    </tr>\n",
       "    <tr>\n",
       "      <th>4</th>\n",
       "      <td>2000-10-05</td>\n",
       "      <td>partially_cloudy</td>\n",
       "    </tr>\n",
       "  </tbody>\n",
       "</table>\n",
       "</div>"
      ],
      "text/plain": [
       "     datetime              condition\n",
       "0  2000-10-01       partially_cloudy\n",
       "1  2000-10-02       partially_cloudy\n",
       "2  2000-10-03       partially_cloudy\n",
       "3  2000-10-04  rain_partially_cloudy\n",
       "4  2000-10-05       partially_cloudy"
      ]
     },
     "execution_count": 7,
     "metadata": {},
     "output_type": "execute_result"
    }
   ],
   "source": [
    "fall.head()"
   ]
  },
  {
   "cell_type": "code",
   "execution_count": 8,
   "metadata": {},
   "outputs": [],
   "source": [
    "train_start_date = '2002-01-01'\n",
    "train_end_date = '2017-12-31'\n",
    "fall_train = fall.loc[fall['datetime'].between(train_start_date, train_end_date)]\n",
    "fall_train = fall_train.reset_index()\n",
    "\n",
    "test_start_date = '2018-01-01'\n",
    "test_end_date = '2021-12-31'\n",
    "fall_test = fall.loc[fall['datetime'].between(test_start_date, test_end_date)]\n",
    "fall_test = fall_test.reset_index()"
   ]
  },
  {
   "cell_type": "markdown",
   "metadata": {},
   "source": [
    "## Calculate proportions of conditions & Create transition matrix"
   ]
  },
  {
   "cell_type": "code",
   "execution_count": 9,
   "metadata": {},
   "outputs": [],
   "source": [
    "# Initialize count variables\n",
    "\n",
    "# 0: 'clear' - C\n",
    "# 1: 'partially_cloudy' - PC\n",
    "# 2: 'overcast' - OV\n",
    "# 3: 'rain' - R\n",
    "# 4: 'rain_partially_cloudy' - RPC\n",
    "# 5: 'rain_overcast' - ROV\n",
    "\n",
    "C_after_C_count = 0.0\n",
    "PC_after_C_count = 0.0\n",
    "OV_after_C_count = 0.0\n",
    "R_after_C_count = 0.0\n",
    "RPC_after_C_count = 0.0\n",
    "ROV_after_C_count = 0.0\n",
    "\n",
    "C_after_PC_count = 0.0\n",
    "PC_after_PC_count = 0.0\n",
    "OV_after_PC_count = 0.0\n",
    "R_after_PC_count = 0.0\n",
    "RPC_after_PC_count = 0.0\n",
    "ROV_after_PC_count = 0.0\n",
    "\n",
    "C_after_OV_count = 0.0\n",
    "PC_after_OV_count = 0.0\n",
    "OV_after_OV_count = 0.0\n",
    "R_after_OV_count = 0.0\n",
    "RPC_after_OV_count = 0.0\n",
    "ROV_after_OV_count = 0.0\n",
    "\n",
    "C_after_R_count = 0.0\n",
    "PC_after_R_count = 0.0\n",
    "OV_after_R_count = 0.0\n",
    "R_after_R_count = 0.0\n",
    "RPC_after_R_count = 0.0\n",
    "ROV_after_R_count = 0.0\n",
    "\n",
    "C_after_RPC_count = 0.0\n",
    "PC_after_RPC_count = 0.0\n",
    "OV_after_RPC_count = 0.0\n",
    "R_after_RPC_count = 0.0\n",
    "RPC_after_RPC_count = 0.0\n",
    "ROV_after_RPC_count = 0.0\n",
    "\n",
    "C_after_ROV_count = 0.0\n",
    "PC_after_ROV_count = 0.0\n",
    "OV_after_ROV_count = 0.0\n",
    "R_after_ROV_count = 0.0\n",
    "RPC_after_ROV_count = 0.0\n",
    "ROV_after_ROV_count = 0.0"
   ]
  },
  {
   "cell_type": "code",
   "execution_count": 10,
   "metadata": {},
   "outputs": [
    {
     "data": {
      "text/html": [
       "<div>\n",
       "<style scoped>\n",
       "    .dataframe tbody tr th:only-of-type {\n",
       "        vertical-align: middle;\n",
       "    }\n",
       "\n",
       "    .dataframe tbody tr th {\n",
       "        vertical-align: top;\n",
       "    }\n",
       "\n",
       "    .dataframe thead th {\n",
       "        text-align: right;\n",
       "    }\n",
       "</style>\n",
       "<table border=\"1\" class=\"dataframe\">\n",
       "  <thead>\n",
       "    <tr style=\"text-align: right;\">\n",
       "      <th></th>\n",
       "      <th>index</th>\n",
       "      <th>datetime</th>\n",
       "      <th>condition</th>\n",
       "    </tr>\n",
       "  </thead>\n",
       "  <tbody>\n",
       "    <tr>\n",
       "      <th>0</th>\n",
       "      <td>184</td>\n",
       "      <td>2002-10-01</td>\n",
       "      <td>partially_cloudy</td>\n",
       "    </tr>\n",
       "    <tr>\n",
       "      <th>1</th>\n",
       "      <td>185</td>\n",
       "      <td>2002-10-02</td>\n",
       "      <td>clear</td>\n",
       "    </tr>\n",
       "    <tr>\n",
       "      <th>2</th>\n",
       "      <td>186</td>\n",
       "      <td>2002-10-03</td>\n",
       "      <td>clear</td>\n",
       "    </tr>\n",
       "    <tr>\n",
       "      <th>3</th>\n",
       "      <td>187</td>\n",
       "      <td>2002-10-04</td>\n",
       "      <td>clear</td>\n",
       "    </tr>\n",
       "    <tr>\n",
       "      <th>4</th>\n",
       "      <td>188</td>\n",
       "      <td>2002-10-05</td>\n",
       "      <td>clear</td>\n",
       "    </tr>\n",
       "    <tr>\n",
       "      <th>...</th>\n",
       "      <td>...</td>\n",
       "      <td>...</td>\n",
       "      <td>...</td>\n",
       "    </tr>\n",
       "    <tr>\n",
       "      <th>1467</th>\n",
       "      <td>1651</td>\n",
       "      <td>2017-12-27</td>\n",
       "      <td>clear</td>\n",
       "    </tr>\n",
       "    <tr>\n",
       "      <th>1468</th>\n",
       "      <td>1652</td>\n",
       "      <td>2017-12-28</td>\n",
       "      <td>clear</td>\n",
       "    </tr>\n",
       "    <tr>\n",
       "      <th>1469</th>\n",
       "      <td>1653</td>\n",
       "      <td>2017-12-29</td>\n",
       "      <td>clear</td>\n",
       "    </tr>\n",
       "    <tr>\n",
       "      <th>1470</th>\n",
       "      <td>1654</td>\n",
       "      <td>2017-12-30</td>\n",
       "      <td>partially_cloudy</td>\n",
       "    </tr>\n",
       "    <tr>\n",
       "      <th>1471</th>\n",
       "      <td>1655</td>\n",
       "      <td>2017-12-31</td>\n",
       "      <td>partially_cloudy</td>\n",
       "    </tr>\n",
       "  </tbody>\n",
       "</table>\n",
       "<p>1472 rows × 3 columns</p>\n",
       "</div>"
      ],
      "text/plain": [
       "      index    datetime         condition\n",
       "0       184  2002-10-01  partially_cloudy\n",
       "1       185  2002-10-02             clear\n",
       "2       186  2002-10-03             clear\n",
       "3       187  2002-10-04             clear\n",
       "4       188  2002-10-05             clear\n",
       "...     ...         ...               ...\n",
       "1467   1651  2017-12-27             clear\n",
       "1468   1652  2017-12-28             clear\n",
       "1469   1653  2017-12-29             clear\n",
       "1470   1654  2017-12-30  partially_cloudy\n",
       "1471   1655  2017-12-31  partially_cloudy\n",
       "\n",
       "[1472 rows x 3 columns]"
      ]
     },
     "execution_count": 10,
     "metadata": {},
     "output_type": "execute_result"
    }
   ],
   "source": [
    "fall_train"
   ]
  },
  {
   "cell_type": "code",
   "execution_count": 11,
   "metadata": {},
   "outputs": [],
   "source": [
    "# Count conditions\n",
    "\n",
    "fall_train['condition_shift'] = fall_train['condition'].shift(-1)\n",
    "\n",
    "for i in range(len(fall_train)):\n",
    "    # Current 'clear'\n",
    "    if fall_train.loc[i, 'condition'] == 'clear' and fall_train.loc[i, 'condition_shift'] == 'clear':\n",
    "        C_after_C_count += 1\n",
    "    elif fall_train.loc[i, 'condition'] == 'partially_cloudy' and fall_train.loc[i, 'condition_shift'] == 'clear':\n",
    "        PC_after_C_count += 1\n",
    "    elif fall_train.loc[i, 'condition'] == 'overcast' and fall_train.loc[i, 'condition_shift'] == 'clear':\n",
    "        OV_after_C_count += 1\n",
    "    elif fall_train.loc[i, 'condition'] == 'rain' and fall_train.loc[i, 'condition_shift'] == 'clear':\n",
    "        R_after_C_count += 1\n",
    "    elif fall_train.loc[i, 'condition'] == 'rain_partially_cloudy' and fall_train.loc[i, 'condition_shift'] == 'clear':\n",
    "        RPC_after_C_count += 1\n",
    "    elif fall_train.loc[i, 'condition'] == 'rain_overcast' and fall_train.loc[i, 'condition_shift'] == 'clear':\n",
    "        ROV_after_C_count += 1\n",
    "    # Current 'partially_cloudy'\n",
    "    elif fall_train.loc[i, 'condition'] == 'clear' and fall_train.loc[i, 'condition_shift'] == 'partially_cloudy':\n",
    "        C_after_PC_count += 1\n",
    "    elif fall_train.loc[i, 'condition'] == 'partially_cloudy' and fall_train.loc[i, 'condition_shift'] == 'partially_cloudy':\n",
    "        PC_after_PC_count += 1\n",
    "    elif fall_train.loc[i, 'condition'] == 'overcast' and fall_train.loc[i, 'condition_shift'] == 'partially_cloudy':\n",
    "        OV_after_PC_count += 1\n",
    "    elif fall_train.loc[i, 'condition'] == 'rain' and fall_train.loc[i, 'condition_shift'] == 'partially_cloudy':\n",
    "        R_after_PC_count += 1\n",
    "    elif fall_train.loc[i, 'condition'] == 'rain_partially_cloudy' and fall_train.loc[i, 'condition_shift'] == 'partially_cloudy':\n",
    "        RPC_after_PC_count += 1\n",
    "    elif fall_train.loc[i, 'condition'] == 'rain_overcast' and fall_train.loc[i, 'condition_shift'] == 'partially_cloudy':\n",
    "        ROV_after_PC_count += 1\n",
    "    # Current 'overcast'\n",
    "    elif fall_train.loc[i, 'condition'] == 'clear' and fall_train.loc[i, 'condition_shift'] == 'overcast':\n",
    "        C_after_OV_count += 1\n",
    "    elif fall_train.loc[i, 'condition'] == 'partially_cloudy' and fall_train.loc[i, 'condition_shift'] == 'overcast':\n",
    "        PC_after_OV_count += 1\n",
    "    elif fall_train.loc[i, 'condition'] == 'overcast' and fall_train.loc[i, 'condition_shift'] == 'overcast':\n",
    "        OV_after_OV_count += 1\n",
    "    elif fall_train.loc[i, 'condition'] == 'rain' and fall_train.loc[i, 'condition_shift'] == 'overcast':\n",
    "        R_after_OV_count += 1\n",
    "    elif fall_train.loc[i, 'condition'] == 'rain_partially_cloudy' and fall_train.loc[i, 'condition_shift'] == 'overcast':\n",
    "        RPC_after_OV_count += 1\n",
    "    elif fall_train.loc[i, 'condition'] == 'rain_overcast' and fall_train.loc[i, 'condition_shift'] == 'overcast':\n",
    "        ROV_after_OV_count += 1\n",
    "    # Current 'rain'\n",
    "    elif fall_train.loc[i, 'condition'] == 'clear' and fall_train.loc[i, 'condition_shift'] == 'rain':\n",
    "        C_after_R_count += 1\n",
    "    elif fall_train.loc[i, 'condition'] == 'partially_cloudy' and fall_train.loc[i, 'condition_shift'] == 'rain':\n",
    "        PC_after_R_count += 1\n",
    "    elif fall_train.loc[i, 'condition'] == 'overcast' and fall_train.loc[i, 'condition_shift'] == 'rain':\n",
    "        OV_after_R_count += 1\n",
    "    elif fall_train.loc[i, 'condition'] == 'rain' and fall_train.loc[i, 'condition_shift'] == 'rain':\n",
    "        R_after_R_count += 1\n",
    "    elif fall_train.loc[i, 'condition'] == 'rain_partially_cloudy' and fall_train.loc[i, 'condition_shift'] == 'rain':\n",
    "        RPC_after_R_count += 1\n",
    "    elif fall_train.loc[i, 'condition'] == 'rain_overcast' and fall_train.loc[i, 'condition_shift'] == 'rain':\n",
    "        ROV_after_R_count += 1\n",
    "    # Current 'rain_partially_cloudy'\n",
    "    elif fall_train.loc[i, 'condition'] == 'clear' and fall_train.loc[i, 'condition_shift'] == 'rain_partially_cloudy':\n",
    "        C_after_RPC_count += 1\n",
    "    elif fall_train.loc[i, 'condition'] == 'partially_cloudy' and fall_train.loc[i, 'condition_shift'] == 'rain_partially_cloudy':\n",
    "        PC_after_RPC_count += 1\n",
    "    elif fall_train.loc[i, 'condition'] == 'overcast' and fall_train.loc[i, 'condition_shift'] == 'rain_partially_cloudy':\n",
    "        OV_after_RPC_count += 1\n",
    "    elif fall_train.loc[i, 'condition'] == 'rain' and fall_train.loc[i, 'condition_shift'] == 'rain_partially_cloudy':\n",
    "        R_after_RPC_count += 1\n",
    "    elif fall_train.loc[i, 'condition'] == 'rain_partially_cloudy' and fall_train.loc[i, 'condition_shift'] == 'rain_partially_cloudy':\n",
    "        RPC_after_RPC_count += 1\n",
    "    elif fall_train.loc[i, 'condition'] == 'rain_overcast' and fall_train.loc[i, 'condition_shift'] == 'rain_partially_cloudy':\n",
    "        ROV_after_RPC_count += 1\n",
    "    # Current 'rain_overcast'\n",
    "    elif fall_train.loc[i, 'condition'] == 'clear' and fall_train.loc[i, 'condition_shift'] == 'rain_overcast':\n",
    "        C_after_ROV_count += 1\n",
    "    elif fall_train.loc[i, 'condition'] == 'partially_cloudy' and fall_train.loc[i, 'condition_shift'] == 'rain_overcast':\n",
    "        PC_after_ROV_count += 1\n",
    "    elif fall_train.loc[i, 'condition'] == 'overcast' and fall_train.loc[i, 'condition_shift'] == 'rain_overcast':\n",
    "        OV_after_ROV_count += 1\n",
    "    elif fall_train.loc[i, 'condition'] == 'rain' and fall_train.loc[i, 'condition_shift'] == 'rain_overcast':\n",
    "        R_after_ROV_count += 1\n",
    "    elif fall_train.loc[i, 'condition'] == 'rain_partially_cloudy' and fall_train.loc[i, 'condition_shift'] == 'rain_overcast':\n",
    "        RPC_after_ROV_count += 1\n",
    "    elif fall_train.loc[i, 'condition'] == 'rain_overcast' and fall_train.loc[i, 'condition_shift'] == 'rain_overcast':\n",
    "        ROV_after_ROV_count += 1"
   ]
  },
  {
   "cell_type": "code",
   "execution_count": 12,
   "metadata": {},
   "outputs": [],
   "source": [
    "current_C_total = C_after_C_count + PC_after_C_count + OV_after_C_count + R_after_C_count + RPC_after_C_count + ROV_after_C_count\n",
    "current_PC_total = C_after_PC_count + PC_after_PC_count + OV_after_PC_count + R_after_PC_count + RPC_after_PC_count + ROV_after_PC_count\n",
    "current_OV_total = C_after_OV_count + PC_after_OV_count + OV_after_OV_count + R_after_OV_count + RPC_after_OV_count + ROV_after_OV_count\n",
    "current_R_total =C_after_R_count + PC_after_R_count + OV_after_R_count + R_after_R_count + RPC_after_R_count + ROV_after_R_count\n",
    "current_RPC_total = C_after_RPC_count + PC_after_RPC_count + OV_after_RPC_count + R_after_RPC_count + RPC_after_RPC_count + ROV_after_RPC_count\n",
    "current_ROV_total = C_after_ROV_count + PC_after_ROV_count + OV_after_ROV_count + R_after_ROV_count + RPC_after_ROV_count + ROV_after_ROV_count"
   ]
  },
  {
   "cell_type": "code",
   "execution_count": 13,
   "metadata": {},
   "outputs": [],
   "source": [
    "C_after_C_prob = C_after_C_count / current_C_total\n",
    "PC_after_C_prob = PC_after_C_count / current_C_total\n",
    "OV_after_C_prob = OV_after_C_count / current_C_total\n",
    "R_after_C_prob = R_after_C_count / current_C_total\n",
    "RPC_after_C_prob = RPC_after_C_count / current_C_total\n",
    "ROV_after_C_prob = ROV_after_C_count / current_C_total\n",
    "\n",
    "C_after_PC_prob = C_after_PC_count / current_PC_total\n",
    "PC_after_PC_prob = PC_after_PC_count / current_PC_total\n",
    "OV_after_PC_prob = OV_after_PC_count / current_PC_total\n",
    "R_after_PC_prob = R_after_PC_count / current_PC_total\n",
    "RPC_after_PC_prob = RPC_after_PC_count / current_PC_total\n",
    "ROV_after_PC_prob = ROV_after_PC_count / current_PC_total\n",
    "\n",
    "C_after_OV_prob = C_after_OV_count / current_OV_total\n",
    "PC_after_OV_prob = PC_after_OV_count / current_OV_total\n",
    "OV_after_OV_prob = OV_after_OV_count / current_OV_total\n",
    "R_after_OV_prob = R_after_OV_count / current_OV_total\n",
    "RPC_after_OV_prob = RPC_after_OV_count / current_OV_total\n",
    "ROV_after_OV_prob = ROV_after_OV_count / current_OV_total\n",
    "\n",
    "C_after_R_prob = C_after_R_count / current_R_total\n",
    "PC_after_R_prob = PC_after_R_count / current_R_total\n",
    "OV_after_R_prob = OV_after_R_count / current_R_total\n",
    "R_after_R_prob = R_after_R_count / current_R_total\n",
    "RPC_after_R_prob = RPC_after_R_count / current_R_total\n",
    "ROV_after_R_prob = ROV_after_R_count / current_R_total\n",
    "\n",
    "C_after_RPC_prob = C_after_RPC_count / current_RPC_total\n",
    "PC_after_RPC_prob = PC_after_RPC_count / current_RPC_total\n",
    "OV_after_RPC_prob = OV_after_RPC_count / current_RPC_total\n",
    "R_after_RPC_prob = R_after_RPC_count / current_RPC_total\n",
    "RPC_after_RPC_prob = RPC_after_RPC_count / current_RPC_total\n",
    "ROV_after_RPC_prob = ROV_after_RPC_count / current_RPC_total\n",
    "\n",
    "C_after_ROV_prob = C_after_ROV_count / current_ROV_total\n",
    "PC_after_ROV_prob = PC_after_ROV_count / current_ROV_total\n",
    "OV_after_ROV_prob = OV_after_ROV_count / current_ROV_total\n",
    "R_after_ROV_prob = R_after_ROV_count / current_ROV_total\n",
    "RPC_after_ROV_prob = RPC_after_ROV_count / current_ROV_total\n",
    "ROV_after_ROV_prob = ROV_after_ROV_count / current_ROV_total"
   ]
  },
  {
   "cell_type": "code",
   "execution_count": 14,
   "metadata": {},
   "outputs": [
    {
     "name": "stdout",
     "output_type": "stream",
     "text": [
      "0.7132963988919667\n",
      "0.13850415512465375\n",
      "0.0\n",
      "0.04847645429362881\n",
      "0.09002770083102493\n",
      "0.009695290858725761\n",
      "0.3462532299741602\n",
      "0.4883720930232558\n",
      "0.015503875968992248\n",
      "0.025839793281653745\n",
      "0.1111111111111111\n",
      "0.012919896640826873\n",
      "0.0\n",
      "0.5882352941176471\n",
      "0.17647058823529413\n",
      "0.0\n",
      "0.17647058823529413\n",
      "0.058823529411764705\n",
      "0.2876712328767123\n",
      "0.2054794520547945\n",
      "0.0\n",
      "0.2328767123287671\n",
      "0.2465753424657534\n",
      "0.0273972602739726\n",
      "0.21296296296296297\n",
      "0.26851851851851855\n",
      "0.027777777777777776\n",
      "0.046296296296296294\n",
      "0.3472222222222222\n",
      "0.09722222222222222\n",
      "0.10714285714285714\n",
      "0.26785714285714285\n",
      "0.03571428571428571\n",
      "0.017857142857142856\n",
      "0.21428571428571427\n",
      "0.35714285714285715\n"
     ]
    }
   ],
   "source": [
    "# Printing our probabilities for 6x6 transition matrix:\n",
    "print(C_after_C_prob)\n",
    "print(PC_after_C_prob)\n",
    "print(OV_after_C_prob)\n",
    "print(R_after_C_prob)\n",
    "print(RPC_after_C_prob)\n",
    "print(ROV_after_C_prob)\n",
    "\n",
    "print(C_after_PC_prob)\n",
    "print(PC_after_PC_prob)\n",
    "print(OV_after_PC_prob)\n",
    "print(R_after_PC_prob)\n",
    "print(RPC_after_PC_prob)\n",
    "print(ROV_after_PC_prob)\n",
    "\n",
    "print(C_after_OV_prob)\n",
    "print(PC_after_OV_prob)\n",
    "print(OV_after_OV_prob)\n",
    "print(R_after_OV_prob)\n",
    "print(RPC_after_OV_prob)\n",
    "print(ROV_after_OV_prob)\n",
    "\n",
    "print(C_after_R_prob)\n",
    "print(PC_after_R_prob)\n",
    "print(OV_after_R_prob)\n",
    "print(R_after_R_prob)\n",
    "print(RPC_after_R_prob)\n",
    "print(ROV_after_R_prob)\n",
    "\n",
    "print(C_after_RPC_prob)\n",
    "print(PC_after_RPC_prob)\n",
    "print(OV_after_RPC_prob)\n",
    "print(R_after_RPC_prob)\n",
    "print(RPC_after_RPC_prob)\n",
    "print(ROV_after_RPC_prob)\n",
    "\n",
    "print(C_after_ROV_prob)\n",
    "print(PC_after_ROV_prob)\n",
    "print(OV_after_ROV_prob)\n",
    "print(R_after_ROV_prob)\n",
    "print(RPC_after_ROV_prob)\n",
    "print(ROV_after_ROV_prob)"
   ]
  },
  {
   "cell_type": "code",
   "execution_count": 15,
   "metadata": {},
   "outputs": [
    {
     "name": "stdout",
     "output_type": "stream",
     "text": [
      "1.0\n",
      "1.0\n",
      "1.0\n",
      "1.0\n",
      "1.0\n",
      "1.0\n"
     ]
    }
   ],
   "source": [
    "# Checking that each row in the transition matrix adds up to 1:\n",
    "print(C_after_C_prob + PC_after_C_prob + OV_after_C_prob + R_after_C_prob + RPC_after_C_prob + ROV_after_C_prob)\n",
    "print(C_after_PC_prob + PC_after_PC_prob + OV_after_PC_prob + R_after_PC_prob + RPC_after_PC_prob + ROV_after_PC_prob)\n",
    "print(C_after_OV_prob + PC_after_OV_prob + OV_after_OV_prob + R_after_OV_prob + RPC_after_OV_prob + ROV_after_OV_prob)\n",
    "print(C_after_R_prob + PC_after_R_prob + OV_after_R_prob + R_after_R_prob + RPC_after_R_prob + ROV_after_R_prob)\n",
    "print(C_after_RPC_prob + PC_after_RPC_prob + OV_after_RPC_prob + R_after_RPC_prob + RPC_after_RPC_prob + ROV_after_RPC_prob)\n",
    "print(C_after_ROV_prob + PC_after_ROV_prob + OV_after_ROV_prob + R_after_ROV_prob + RPC_after_ROV_prob + ROV_after_ROV_prob)"
   ]
  },
  {
   "cell_type": "code",
   "execution_count": 16,
   "metadata": {},
   "outputs": [
    {
     "name": "stdout",
     "output_type": "stream",
     "text": [
      "[[0.7132963988919667, 0.13850415512465375, 0.0, 0.04847645429362881, 0.09002770083102493, 0.009695290858725761], [0.3462532299741602, 0.4883720930232558, 0.015503875968992248, 0.025839793281653745, 0.1111111111111111, 0.012919896640826873], [0.0, 0.5882352941176471, 0.17647058823529413, 0.0, 0.17647058823529413, 0.058823529411764705], [0.2876712328767123, 0.2054794520547945, 0.0, 0.2328767123287671, 0.2465753424657534, 0.0273972602739726], [0.21296296296296297, 0.26851851851851855, 0.027777777777777776, 0.046296296296296294, 0.3472222222222222, 0.09722222222222222], [0.10714285714285714, 0.26785714285714285, 0.03571428571428571, 0.017857142857142856, 0.21428571428571427, 0.35714285714285715]]\n"
     ]
    }
   ],
   "source": [
    "# Creating the transition matrix:\n",
    "transition_matrix = [[C_after_C_prob, PC_after_C_prob, OV_after_C_prob, R_after_C_prob, RPC_after_C_prob, ROV_after_C_prob], \n",
    "                    [C_after_PC_prob, PC_after_PC_prob, OV_after_PC_prob, R_after_PC_prob, RPC_after_PC_prob, ROV_after_PC_prob],\n",
    "                    [C_after_OV_prob, PC_after_OV_prob, OV_after_OV_prob, R_after_OV_prob, RPC_after_OV_prob, ROV_after_OV_prob],\n",
    "                    [C_after_R_prob, PC_after_R_prob, OV_after_R_prob, R_after_R_prob, RPC_after_R_prob, ROV_after_R_prob],\n",
    "                    [C_after_RPC_prob, PC_after_RPC_prob, OV_after_RPC_prob, R_after_RPC_prob, RPC_after_RPC_prob, ROV_after_RPC_prob],\n",
    "                    [C_after_ROV_prob, PC_after_ROV_prob, OV_after_ROV_prob, R_after_ROV_prob, RPC_after_ROV_prob, ROV_after_ROV_prob]]\n",
    "print(transition_matrix)"
   ]
  },
  {
   "cell_type": "code",
   "execution_count": 17,
   "metadata": {},
   "outputs": [
    {
     "name": "stdout",
     "output_type": "stream",
     "text": [
      "[[0.7132964  0.13850416 0.         0.04847645 0.0900277  0.00969529]\n",
      " [0.34625323 0.48837209 0.01550388 0.02583979 0.11111111 0.0129199 ]\n",
      " [0.         0.58823529 0.17647059 0.         0.17647059 0.05882353]\n",
      " [0.28767123 0.20547945 0.         0.23287671 0.24657534 0.02739726]\n",
      " [0.21296296 0.26851852 0.02777778 0.0462963  0.34722222 0.09722222]\n",
      " [0.10714286 0.26785714 0.03571429 0.01785714 0.21428571 0.35714286]]\n"
     ]
    }
   ],
   "source": [
    "t_array = np.array(transition_matrix)\n",
    "print(t_array)"
   ]
  },
  {
   "cell_type": "code",
   "execution_count": 18,
   "metadata": {},
   "outputs": [
    {
     "data": {
      "text/html": [
       "<div>\n",
       "<style scoped>\n",
       "    .dataframe tbody tr th:only-of-type {\n",
       "        vertical-align: middle;\n",
       "    }\n",
       "\n",
       "    .dataframe tbody tr th {\n",
       "        vertical-align: top;\n",
       "    }\n",
       "\n",
       "    .dataframe thead th {\n",
       "        text-align: right;\n",
       "    }\n",
       "</style>\n",
       "<table border=\"1\" class=\"dataframe\">\n",
       "  <thead>\n",
       "    <tr style=\"text-align: right;\">\n",
       "      <th></th>\n",
       "      <th>index</th>\n",
       "      <th>datetime</th>\n",
       "      <th>condition</th>\n",
       "    </tr>\n",
       "  </thead>\n",
       "  <tbody>\n",
       "    <tr>\n",
       "      <th>0</th>\n",
       "      <td>1656</td>\n",
       "      <td>2018-10-01</td>\n",
       "      <td>clear</td>\n",
       "    </tr>\n",
       "  </tbody>\n",
       "</table>\n",
       "</div>"
      ],
      "text/plain": [
       "   index    datetime condition\n",
       "0   1656  2018-10-01     clear"
      ]
     },
     "execution_count": 18,
     "metadata": {},
     "output_type": "execute_result"
    }
   ],
   "source": [
    "fall_test.head(1)"
   ]
  },
  {
   "cell_type": "markdown",
   "metadata": {},
   "source": [
    "First day of fall 2018: clear"
   ]
  },
  {
   "cell_type": "code",
   "execution_count": 19,
   "metadata": {},
   "outputs": [],
   "source": [
    "def predict_weather_six_conditions(test_data):\n",
    "    state = {0:'clear', 1:'partially_cloudy', 2:'overcast', 3:'rain', 4:'rain_partially_cloudy', 5:'rain_overcast'}\n",
    "    n = len(test_data) # how many steps to test\n",
    "    start_state = 0 # 0 = clear\n",
    "    test_result = test_data.copy()\n",
    "\n",
    "    prev_state = start_state\n",
    "    result = [state[start_state]]\n",
    "    while n-1:\n",
    "        curr_state = np.random.choice([0,1,2,3,4,5], p=t_array[prev_state]) #taking the probability from the transition matrix\n",
    "        result.append(state[curr_state])\n",
    "        prev_state = curr_state\n",
    "        n -= 1\n",
    "\n",
    "    # curr_state = np.random.choice([0,1,2,3,4,5], p=t_array[prev_state]) #taking the probability from the transition matrix\n",
    "    # result.append(state[curr_state])\n",
    "\n",
    "    test_result['predicted_condition'] = result\n",
    "\n",
    "    return test_result\n",
    "\n",
    "def find_accuracy(predicted_result):\n",
    "    correct_count = 0.0\n",
    "\n",
    "    for i in range(len(predicted_result)):\n",
    "        if predicted_result.loc[i, 'condition'] == predicted_result.loc[i, 'predicted_condition']:\n",
    "            correct_count += 1\n",
    "\n",
    "    correct_prop = correct_count / len(predicted_result)\n",
    "\n",
    "    return correct_prop\n",
    "\n",
    "def run_predictions_return_avg_accuracy(test_data, trial_count):\n",
    "    accuracy_sum = 0.0\n",
    "    for i in range(trial_count):\n",
    "        predicted_result = predict_weather_six_conditions(test_data)\n",
    "        accuracy = find_accuracy(predicted_result)\n",
    "        accuracy_sum += accuracy\n",
    "    avg_accuracy = accuracy_sum / trial_count\n",
    "\n",
    "    return avg_accuracy"
   ]
  },
  {
   "cell_type": "code",
   "execution_count": 20,
   "metadata": {},
   "outputs": [
    {
     "name": "stdout",
     "output_type": "stream",
     "text": [
      "   index    datetime              condition predicted_condition\n",
      "0   1656  2018-10-01                  clear               clear\n",
      "1   1657  2018-10-02       partially_cloudy               clear\n",
      "2   1658  2018-10-03  rain_partially_cloudy               clear\n",
      "3   1659  2018-10-04  rain_partially_cloudy    partially_cloudy\n",
      "4   1660  2018-10-05       partially_cloudy               clear\n",
      "0.38858695652173914\n"
     ]
    }
   ],
   "source": [
    "# Sample prediction (for table graphic)\n",
    "\n",
    "sample_prediction = predict_weather_six_conditions(fall_test)\n",
    "sample_accuracy = find_accuracy(sample_prediction)\n",
    "print(sample_prediction.head())\n",
    "print(sample_accuracy)"
   ]
  },
  {
   "cell_type": "code",
   "execution_count": 21,
   "metadata": {},
   "outputs": [
    {
     "data": {
      "text/plain": [
       "0.3698097826086957"
      ]
     },
     "execution_count": 21,
     "metadata": {},
     "output_type": "execute_result"
    }
   ],
   "source": [
    "run_predictions_return_avg_accuracy(fall_test, 100)"
   ]
  }
 ],
 "metadata": {
  "kernelspec": {
   "display_name": "Python 3 (ipykernel)",
   "language": "python",
   "name": "python3"
  },
  "language_info": {
   "codemirror_mode": {
    "name": "ipython",
    "version": 3
   },
   "file_extension": ".py",
   "mimetype": "text/x-python",
   "name": "python",
   "nbconvert_exporter": "python",
   "pygments_lexer": "ipython3",
   "version": "3.9.7 (default, Sep 16 2021, 08:50:36) \n[Clang 10.0.0 ]"
  },
  "vscode": {
   "interpreter": {
    "hash": "78adb8089f1b1ad0b7743184fb6585d3ffc1b6fb4a355aad49fe7003845e53d4"
   }
  }
 },
 "nbformat": 4,
 "nbformat_minor": 4
}
