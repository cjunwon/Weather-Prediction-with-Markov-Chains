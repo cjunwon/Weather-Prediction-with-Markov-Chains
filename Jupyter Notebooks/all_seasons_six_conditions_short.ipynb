{
 "cells": [
  {
   "cell_type": "markdown",
   "metadata": {},
   "source": [
    "# All Seaons - 6 different weather conditions(short time frame)"
   ]
  },
  {
   "cell_type": "markdown",
   "metadata": {},
   "source": [
    "## Import libraries and dataset"
   ]
  },
  {
   "cell_type": "code",
   "execution_count": 1,
   "metadata": {},
   "outputs": [],
   "source": [
    "import pandas as pd\n",
    "import numpy as np\n",
    "from datetime import datetime\n",
    "date_format = \"%Y-%m-%d\""
   ]
  },
  {
   "cell_type": "code",
   "execution_count": 2,
   "metadata": {},
   "outputs": [],
   "source": [
    "all_seasons = pd.read_csv('Datasets/all_seasons.csv')\n",
    "all_seasons = all_seasons[['datetime', 'conditions']]"
   ]
  },
  {
   "cell_type": "code",
   "execution_count": 3,
   "metadata": {},
   "outputs": [
    {
     "data": {
      "text/html": [
       "<div>\n",
       "<style scoped>\n",
       "    .dataframe tbody tr th:only-of-type {\n",
       "        vertical-align: middle;\n",
       "    }\n",
       "\n",
       "    .dataframe tbody tr th {\n",
       "        vertical-align: top;\n",
       "    }\n",
       "\n",
       "    .dataframe thead th {\n",
       "        text-align: right;\n",
       "    }\n",
       "</style>\n",
       "<table border=\"1\" class=\"dataframe\">\n",
       "  <thead>\n",
       "    <tr style=\"text-align: right;\">\n",
       "      <th></th>\n",
       "      <th>datetime</th>\n",
       "      <th>conditions</th>\n",
       "    </tr>\n",
       "  </thead>\n",
       "  <tbody>\n",
       "    <tr>\n",
       "      <th>0</th>\n",
       "      <td>2000-01-01</td>\n",
       "      <td>Partially cloudy</td>\n",
       "    </tr>\n",
       "    <tr>\n",
       "      <th>1</th>\n",
       "      <td>2000-01-02</td>\n",
       "      <td>Clear</td>\n",
       "    </tr>\n",
       "    <tr>\n",
       "      <th>2</th>\n",
       "      <td>2000-01-03</td>\n",
       "      <td>Clear</td>\n",
       "    </tr>\n",
       "    <tr>\n",
       "      <th>3</th>\n",
       "      <td>2000-01-04</td>\n",
       "      <td>Clear</td>\n",
       "    </tr>\n",
       "    <tr>\n",
       "      <th>4</th>\n",
       "      <td>2000-01-05</td>\n",
       "      <td>Clear</td>\n",
       "    </tr>\n",
       "  </tbody>\n",
       "</table>\n",
       "</div>"
      ],
      "text/plain": [
       "     datetime        conditions\n",
       "0  2000-01-01  Partially cloudy\n",
       "1  2000-01-02             Clear\n",
       "2  2000-01-03             Clear\n",
       "3  2000-01-04             Clear\n",
       "4  2000-01-05             Clear"
      ]
     },
     "execution_count": 3,
     "metadata": {},
     "output_type": "execute_result"
    }
   ],
   "source": [
    "all_seasons.head()"
   ]
  },
  {
   "cell_type": "markdown",
   "metadata": {},
   "source": [
    "## Classify and separate data"
   ]
  },
  {
   "cell_type": "code",
   "execution_count": 4,
   "metadata": {},
   "outputs": [],
   "source": [
    "classifier = {'Overcast':'overcast', 'Partially cloudy':'partially_cloudy', 'Clear':'clear', 'Rain, Partially cloudy':'rain_partially_cloudy', 'Rain':'rain', 'Rain, Overcast':'rain_overcast'}\n",
    "\n",
    "all_seasons['condition'] = all_seasons['conditions'].map(classifier)"
   ]
  },
  {
   "cell_type": "code",
   "execution_count": 5,
   "metadata": {},
   "outputs": [
    {
     "data": {
      "text/html": [
       "<div>\n",
       "<style scoped>\n",
       "    .dataframe tbody tr th:only-of-type {\n",
       "        vertical-align: middle;\n",
       "    }\n",
       "\n",
       "    .dataframe tbody tr th {\n",
       "        vertical-align: top;\n",
       "    }\n",
       "\n",
       "    .dataframe thead th {\n",
       "        text-align: right;\n",
       "    }\n",
       "</style>\n",
       "<table border=\"1\" class=\"dataframe\">\n",
       "  <thead>\n",
       "    <tr style=\"text-align: right;\">\n",
       "      <th></th>\n",
       "      <th>datetime</th>\n",
       "      <th>conditions</th>\n",
       "      <th>condition</th>\n",
       "    </tr>\n",
       "  </thead>\n",
       "  <tbody>\n",
       "    <tr>\n",
       "      <th>0</th>\n",
       "      <td>2000-01-01</td>\n",
       "      <td>Partially cloudy</td>\n",
       "      <td>partially_cloudy</td>\n",
       "    </tr>\n",
       "    <tr>\n",
       "      <th>1</th>\n",
       "      <td>2000-01-02</td>\n",
       "      <td>Clear</td>\n",
       "      <td>clear</td>\n",
       "    </tr>\n",
       "    <tr>\n",
       "      <th>2</th>\n",
       "      <td>2000-01-03</td>\n",
       "      <td>Clear</td>\n",
       "      <td>clear</td>\n",
       "    </tr>\n",
       "    <tr>\n",
       "      <th>3</th>\n",
       "      <td>2000-01-04</td>\n",
       "      <td>Clear</td>\n",
       "      <td>clear</td>\n",
       "    </tr>\n",
       "    <tr>\n",
       "      <th>4</th>\n",
       "      <td>2000-01-05</td>\n",
       "      <td>Clear</td>\n",
       "      <td>clear</td>\n",
       "    </tr>\n",
       "  </tbody>\n",
       "</table>\n",
       "</div>"
      ],
      "text/plain": [
       "     datetime        conditions         condition\n",
       "0  2000-01-01  Partially cloudy  partially_cloudy\n",
       "1  2000-01-02             Clear             clear\n",
       "2  2000-01-03             Clear             clear\n",
       "3  2000-01-04             Clear             clear\n",
       "4  2000-01-05             Clear             clear"
      ]
     },
     "execution_count": 5,
     "metadata": {},
     "output_type": "execute_result"
    }
   ],
   "source": [
    "all_seasons.head()"
   ]
  },
  {
   "cell_type": "code",
   "execution_count": 6,
   "metadata": {},
   "outputs": [],
   "source": [
    "all_seasons = all_seasons[['datetime', 'condition']]"
   ]
  },
  {
   "cell_type": "code",
   "execution_count": 7,
   "metadata": {},
   "outputs": [
    {
     "data": {
      "text/html": [
       "<div>\n",
       "<style scoped>\n",
       "    .dataframe tbody tr th:only-of-type {\n",
       "        vertical-align: middle;\n",
       "    }\n",
       "\n",
       "    .dataframe tbody tr th {\n",
       "        vertical-align: top;\n",
       "    }\n",
       "\n",
       "    .dataframe thead th {\n",
       "        text-align: right;\n",
       "    }\n",
       "</style>\n",
       "<table border=\"1\" class=\"dataframe\">\n",
       "  <thead>\n",
       "    <tr style=\"text-align: right;\">\n",
       "      <th></th>\n",
       "      <th>datetime</th>\n",
       "      <th>condition</th>\n",
       "    </tr>\n",
       "  </thead>\n",
       "  <tbody>\n",
       "    <tr>\n",
       "      <th>0</th>\n",
       "      <td>2000-01-01</td>\n",
       "      <td>partially_cloudy</td>\n",
       "    </tr>\n",
       "    <tr>\n",
       "      <th>1</th>\n",
       "      <td>2000-01-02</td>\n",
       "      <td>clear</td>\n",
       "    </tr>\n",
       "    <tr>\n",
       "      <th>2</th>\n",
       "      <td>2000-01-03</td>\n",
       "      <td>clear</td>\n",
       "    </tr>\n",
       "    <tr>\n",
       "      <th>3</th>\n",
       "      <td>2000-01-04</td>\n",
       "      <td>clear</td>\n",
       "    </tr>\n",
       "    <tr>\n",
       "      <th>4</th>\n",
       "      <td>2000-01-05</td>\n",
       "      <td>clear</td>\n",
       "    </tr>\n",
       "  </tbody>\n",
       "</table>\n",
       "</div>"
      ],
      "text/plain": [
       "     datetime         condition\n",
       "0  2000-01-01  partially_cloudy\n",
       "1  2000-01-02             clear\n",
       "2  2000-01-03             clear\n",
       "3  2000-01-04             clear\n",
       "4  2000-01-05             clear"
      ]
     },
     "execution_count": 7,
     "metadata": {},
     "output_type": "execute_result"
    }
   ],
   "source": [
    "all_seasons.head()"
   ]
  },
  {
   "cell_type": "code",
   "execution_count": 8,
   "metadata": {},
   "outputs": [],
   "source": [
    "train_start_date = '2017-01-01'\n",
    "train_end_date = '2020-12-31'\n",
    "all_seasons_train = all_seasons.loc[all_seasons['datetime'].between(train_start_date, train_end_date)]\n",
    "all_seasons_train = all_seasons_train.reset_index()\n",
    "\n",
    "test_start_date = '2021-01-01'\n",
    "test_end_date = '2021-12-31'\n",
    "all_seasons_test = all_seasons.loc[all_seasons['datetime'].between(test_start_date, test_end_date)]\n",
    "all_seasons_test = all_seasons_test.reset_index()"
   ]
  },
  {
   "cell_type": "markdown",
   "metadata": {},
   "source": [
    "## Calculate proportions of conditions & Create transition matrix\n",
    "We will refer to rain is 'R' and no rain as 'N'"
   ]
  },
  {
   "cell_type": "code",
   "execution_count": 9,
   "metadata": {},
   "outputs": [],
   "source": [
    "# Initialize count variables\n",
    "\n",
    "# 0: 'clear' - C\n",
    "# 1: 'partially_cloudy' - PC\n",
    "# 2: 'overcast' - OV\n",
    "# 3: 'rain' - R\n",
    "# 4: 'rain_partially_cloudy' - RPC\n",
    "# 5: 'rain_overcast' - ROV\n",
    "\n",
    "C_after_C_count = 0.0\n",
    "PC_after_C_count = 0.0\n",
    "OV_after_C_count = 0.0\n",
    "R_after_C_count = 0.0\n",
    "RPC_after_C_count = 0.0\n",
    "ROV_after_C_count = 0.0\n",
    "\n",
    "C_after_PC_count = 0.0\n",
    "PC_after_PC_count = 0.0\n",
    "OV_after_PC_count = 0.0\n",
    "R_after_PC_count = 0.0\n",
    "RPC_after_PC_count = 0.0\n",
    "ROV_after_PC_count = 0.0\n",
    "\n",
    "C_after_OV_count = 0.0\n",
    "PC_after_OV_count = 0.0\n",
    "OV_after_OV_count = 0.0\n",
    "R_after_OV_count = 0.0\n",
    "RPC_after_OV_count = 0.0\n",
    "ROV_after_OV_count = 0.0\n",
    "\n",
    "C_after_R_count = 0.0\n",
    "PC_after_R_count = 0.0\n",
    "OV_after_R_count = 0.0\n",
    "R_after_R_count = 0.0\n",
    "RPC_after_R_count = 0.0\n",
    "ROV_after_R_count = 0.0\n",
    "\n",
    "C_after_RPC_count = 0.0\n",
    "PC_after_RPC_count = 0.0\n",
    "OV_after_RPC_count = 0.0\n",
    "R_after_RPC_count = 0.0\n",
    "RPC_after_RPC_count = 0.0\n",
    "ROV_after_RPC_count = 0.0\n",
    "\n",
    "C_after_ROV_count = 0.0\n",
    "PC_after_ROV_count = 0.0\n",
    "OV_after_ROV_count = 0.0\n",
    "R_after_ROV_count = 0.0\n",
    "RPC_after_ROV_count = 0.0\n",
    "ROV_after_ROV_count = 0.0"
   ]
  },
  {
   "cell_type": "code",
   "execution_count": 10,
   "metadata": {},
   "outputs": [
    {
     "data": {
      "text/html": [
       "<div>\n",
       "<style scoped>\n",
       "    .dataframe tbody tr th:only-of-type {\n",
       "        vertical-align: middle;\n",
       "    }\n",
       "\n",
       "    .dataframe tbody tr th {\n",
       "        vertical-align: top;\n",
       "    }\n",
       "\n",
       "    .dataframe thead th {\n",
       "        text-align: right;\n",
       "    }\n",
       "</style>\n",
       "<table border=\"1\" class=\"dataframe\">\n",
       "  <thead>\n",
       "    <tr style=\"text-align: right;\">\n",
       "      <th></th>\n",
       "      <th>index</th>\n",
       "      <th>datetime</th>\n",
       "      <th>condition</th>\n",
       "    </tr>\n",
       "  </thead>\n",
       "  <tbody>\n",
       "    <tr>\n",
       "      <th>0</th>\n",
       "      <td>6210</td>\n",
       "      <td>2017-01-01</td>\n",
       "      <td>partially_cloudy</td>\n",
       "    </tr>\n",
       "    <tr>\n",
       "      <th>1</th>\n",
       "      <td>6211</td>\n",
       "      <td>2017-01-02</td>\n",
       "      <td>partially_cloudy</td>\n",
       "    </tr>\n",
       "    <tr>\n",
       "      <th>2</th>\n",
       "      <td>6212</td>\n",
       "      <td>2017-01-03</td>\n",
       "      <td>partially_cloudy</td>\n",
       "    </tr>\n",
       "    <tr>\n",
       "      <th>3</th>\n",
       "      <td>6213</td>\n",
       "      <td>2017-01-04</td>\n",
       "      <td>rain_overcast</td>\n",
       "    </tr>\n",
       "    <tr>\n",
       "      <th>4</th>\n",
       "      <td>6214</td>\n",
       "      <td>2017-01-05</td>\n",
       "      <td>rain_partially_cloudy</td>\n",
       "    </tr>\n",
       "    <tr>\n",
       "      <th>...</th>\n",
       "      <td>...</td>\n",
       "      <td>...</td>\n",
       "      <td>...</td>\n",
       "    </tr>\n",
       "    <tr>\n",
       "      <th>1456</th>\n",
       "      <td>7666</td>\n",
       "      <td>2020-12-27</td>\n",
       "      <td>partially_cloudy</td>\n",
       "    </tr>\n",
       "    <tr>\n",
       "      <th>1457</th>\n",
       "      <td>7667</td>\n",
       "      <td>2020-12-28</td>\n",
       "      <td>rain_partially_cloudy</td>\n",
       "    </tr>\n",
       "    <tr>\n",
       "      <th>1458</th>\n",
       "      <td>7668</td>\n",
       "      <td>2020-12-29</td>\n",
       "      <td>clear</td>\n",
       "    </tr>\n",
       "    <tr>\n",
       "      <th>1459</th>\n",
       "      <td>7669</td>\n",
       "      <td>2020-12-30</td>\n",
       "      <td>clear</td>\n",
       "    </tr>\n",
       "    <tr>\n",
       "      <th>1460</th>\n",
       "      <td>7670</td>\n",
       "      <td>2020-12-31</td>\n",
       "      <td>clear</td>\n",
       "    </tr>\n",
       "  </tbody>\n",
       "</table>\n",
       "<p>1461 rows × 3 columns</p>\n",
       "</div>"
      ],
      "text/plain": [
       "      index    datetime              condition\n",
       "0      6210  2017-01-01       partially_cloudy\n",
       "1      6211  2017-01-02       partially_cloudy\n",
       "2      6212  2017-01-03       partially_cloudy\n",
       "3      6213  2017-01-04          rain_overcast\n",
       "4      6214  2017-01-05  rain_partially_cloudy\n",
       "...     ...         ...                    ...\n",
       "1456   7666  2020-12-27       partially_cloudy\n",
       "1457   7667  2020-12-28  rain_partially_cloudy\n",
       "1458   7668  2020-12-29                  clear\n",
       "1459   7669  2020-12-30                  clear\n",
       "1460   7670  2020-12-31                  clear\n",
       "\n",
       "[1461 rows x 3 columns]"
      ]
     },
     "execution_count": 10,
     "metadata": {},
     "output_type": "execute_result"
    }
   ],
   "source": [
    "all_seasons_train"
   ]
  },
  {
   "cell_type": "code",
   "execution_count": 11,
   "metadata": {},
   "outputs": [],
   "source": [
    "# Count conditions\n",
    "\n",
    "all_seasons_train['condition_shift'] = all_seasons_train['condition'].shift(-1)\n",
    "\n",
    "for i in range(len(all_seasons_train)):\n",
    "    # Current 'clear'\n",
    "    if all_seasons_train.loc[i, 'condition'] == 'clear' and all_seasons_train.loc[i, 'condition_shift'] == 'clear':\n",
    "        C_after_C_count += 1\n",
    "    elif all_seasons_train.loc[i, 'condition'] == 'partially_cloudy' and all_seasons_train.loc[i, 'condition_shift'] == 'clear':\n",
    "        PC_after_C_count += 1\n",
    "    elif all_seasons_train.loc[i, 'condition'] == 'overcast' and all_seasons_train.loc[i, 'condition_shift'] == 'clear':\n",
    "        OV_after_C_count += 1\n",
    "    elif all_seasons_train.loc[i, 'condition'] == 'rain' and all_seasons_train.loc[i, 'condition_shift'] == 'clear':\n",
    "        R_after_C_count += 1\n",
    "    elif all_seasons_train.loc[i, 'condition'] == 'rain_partially_cloudy' and all_seasons_train.loc[i, 'condition_shift'] == 'clear':\n",
    "        RPC_after_C_count += 1\n",
    "    elif all_seasons_train.loc[i, 'condition'] == 'rain_overcast' and all_seasons_train.loc[i, 'condition_shift'] == 'clear':\n",
    "        ROV_after_C_count += 1\n",
    "    # Current 'partially_cloudy'\n",
    "    elif all_seasons_train.loc[i, 'condition'] == 'clear' and all_seasons_train.loc[i, 'condition_shift'] == 'partially_cloudy':\n",
    "        C_after_PC_count += 1\n",
    "    elif all_seasons_train.loc[i, 'condition'] == 'partially_cloudy' and all_seasons_train.loc[i, 'condition_shift'] == 'partially_cloudy':\n",
    "        PC_after_PC_count += 1\n",
    "    elif all_seasons_train.loc[i, 'condition'] == 'overcast' and all_seasons_train.loc[i, 'condition_shift'] == 'partially_cloudy':\n",
    "        OV_after_PC_count += 1\n",
    "    elif all_seasons_train.loc[i, 'condition'] == 'rain' and all_seasons_train.loc[i, 'condition_shift'] == 'partially_cloudy':\n",
    "        R_after_PC_count += 1\n",
    "    elif all_seasons_train.loc[i, 'condition'] == 'rain_partially_cloudy' and all_seasons_train.loc[i, 'condition_shift'] == 'partially_cloudy':\n",
    "        RPC_after_PC_count += 1\n",
    "    elif all_seasons_train.loc[i, 'condition'] == 'rain_overcast' and all_seasons_train.loc[i, 'condition_shift'] == 'partially_cloudy':\n",
    "        ROV_after_PC_count += 1\n",
    "    # Current 'overcast'\n",
    "    elif all_seasons_train.loc[i, 'condition'] == 'clear' and all_seasons_train.loc[i, 'condition_shift'] == 'overcast':\n",
    "        C_after_OV_count += 1\n",
    "    elif all_seasons_train.loc[i, 'condition'] == 'partially_cloudy' and all_seasons_train.loc[i, 'condition_shift'] == 'overcast':\n",
    "        PC_after_OV_count += 1\n",
    "    elif all_seasons_train.loc[i, 'condition'] == 'overcast' and all_seasons_train.loc[i, 'condition_shift'] == 'overcast':\n",
    "        OV_after_OV_count += 1\n",
    "    elif all_seasons_train.loc[i, 'condition'] == 'rain' and all_seasons_train.loc[i, 'condition_shift'] == 'overcast':\n",
    "        R_after_OV_count += 1\n",
    "    elif all_seasons_train.loc[i, 'condition'] == 'rain_partially_cloudy' and all_seasons_train.loc[i, 'condition_shift'] == 'overcast':\n",
    "        RPC_after_OV_count += 1\n",
    "    elif all_seasons_train.loc[i, 'condition'] == 'rain_overcast' and all_seasons_train.loc[i, 'condition_shift'] == 'overcast':\n",
    "        ROV_after_OV_count += 1\n",
    "    # Current 'rain'\n",
    "    elif all_seasons_train.loc[i, 'condition'] == 'clear' and all_seasons_train.loc[i, 'condition_shift'] == 'rain':\n",
    "        C_after_R_count += 1\n",
    "    elif all_seasons_train.loc[i, 'condition'] == 'partially_cloudy' and all_seasons_train.loc[i, 'condition_shift'] == 'rain':\n",
    "        PC_after_R_count += 1\n",
    "    elif all_seasons_train.loc[i, 'condition'] == 'overcast' and all_seasons_train.loc[i, 'condition_shift'] == 'rain':\n",
    "        OV_after_R_count += 1\n",
    "    elif all_seasons_train.loc[i, 'condition'] == 'rain' and all_seasons_train.loc[i, 'condition_shift'] == 'rain':\n",
    "        R_after_R_count += 1\n",
    "    elif all_seasons_train.loc[i, 'condition'] == 'rain_partially_cloudy' and all_seasons_train.loc[i, 'condition_shift'] == 'rain':\n",
    "        RPC_after_R_count += 1\n",
    "    elif all_seasons_train.loc[i, 'condition'] == 'rain_overcast' and all_seasons_train.loc[i, 'condition_shift'] == 'rain':\n",
    "        ROV_after_R_count += 1\n",
    "    # Current 'rain_partially_cloudy'\n",
    "    elif all_seasons_train.loc[i, 'condition'] == 'clear' and all_seasons_train.loc[i, 'condition_shift'] == 'rain_partially_cloudy':\n",
    "        C_after_RPC_count += 1\n",
    "    elif all_seasons_train.loc[i, 'condition'] == 'partially_cloudy' and all_seasons_train.loc[i, 'condition_shift'] == 'rain_partially_cloudy':\n",
    "        PC_after_RPC_count += 1\n",
    "    elif all_seasons_train.loc[i, 'condition'] == 'overcast' and all_seasons_train.loc[i, 'condition_shift'] == 'rain_partially_cloudy':\n",
    "        OV_after_RPC_count += 1\n",
    "    elif all_seasons_train.loc[i, 'condition'] == 'rain' and all_seasons_train.loc[i, 'condition_shift'] == 'rain_partially_cloudy':\n",
    "        R_after_RPC_count += 1\n",
    "    elif all_seasons_train.loc[i, 'condition'] == 'rain_partially_cloudy' and all_seasons_train.loc[i, 'condition_shift'] == 'rain_partially_cloudy':\n",
    "        RPC_after_RPC_count += 1\n",
    "    elif all_seasons_train.loc[i, 'condition'] == 'rain_overcast' and all_seasons_train.loc[i, 'condition_shift'] == 'rain_partially_cloudy':\n",
    "        ROV_after_RPC_count += 1\n",
    "    # Current 'rain_overcast'\n",
    "    elif all_seasons_train.loc[i, 'condition'] == 'clear' and all_seasons_train.loc[i, 'condition_shift'] == 'rain_overcast':\n",
    "        C_after_ROV_count += 1\n",
    "    elif all_seasons_train.loc[i, 'condition'] == 'partially_cloudy' and all_seasons_train.loc[i, 'condition_shift'] == 'rain_overcast':\n",
    "        PC_after_ROV_count += 1\n",
    "    elif all_seasons_train.loc[i, 'condition'] == 'overcast' and all_seasons_train.loc[i, 'condition_shift'] == 'rain_overcast':\n",
    "        OV_after_ROV_count += 1\n",
    "    elif all_seasons_train.loc[i, 'condition'] == 'rain' and all_seasons_train.loc[i, 'condition_shift'] == 'rain_overcast':\n",
    "        R_after_ROV_count += 1\n",
    "    elif all_seasons_train.loc[i, 'condition'] == 'rain_partially_cloudy' and all_seasons_train.loc[i, 'condition_shift'] == 'rain_overcast':\n",
    "        RPC_after_ROV_count += 1\n",
    "    elif all_seasons_train.loc[i, 'condition'] == 'rain_overcast' and all_seasons_train.loc[i, 'condition_shift'] == 'rain_overcast':\n",
    "        ROV_after_ROV_count += 1"
   ]
  },
  {
   "cell_type": "code",
   "execution_count": 12,
   "metadata": {},
   "outputs": [],
   "source": [
    "current_C_total = C_after_C_count + PC_after_C_count + OV_after_C_count + R_after_C_count + RPC_after_C_count + ROV_after_C_count\n",
    "current_PC_total = C_after_PC_count + PC_after_PC_count + OV_after_PC_count + R_after_PC_count + RPC_after_PC_count + ROV_after_PC_count\n",
    "current_OV_total = C_after_OV_count + PC_after_OV_count + OV_after_OV_count + R_after_OV_count + RPC_after_OV_count + ROV_after_OV_count\n",
    "current_R_total =C_after_R_count + PC_after_R_count + OV_after_R_count + R_after_R_count + RPC_after_R_count + ROV_after_R_count\n",
    "current_RPC_total = C_after_RPC_count + PC_after_RPC_count + OV_after_RPC_count + R_after_RPC_count + RPC_after_RPC_count + ROV_after_RPC_count\n",
    "current_ROV_total = C_after_ROV_count + PC_after_ROV_count + OV_after_ROV_count + R_after_ROV_count + RPC_after_ROV_count + ROV_after_ROV_count"
   ]
  },
  {
   "cell_type": "code",
   "execution_count": 13,
   "metadata": {},
   "outputs": [],
   "source": [
    "C_after_C_prob = C_after_C_count / current_C_total\n",
    "PC_after_C_prob = PC_after_C_count / current_C_total\n",
    "OV_after_C_prob = OV_after_C_count / current_C_total\n",
    "R_after_C_prob = R_after_C_count / current_C_total\n",
    "RPC_after_C_prob = RPC_after_C_count / current_C_total\n",
    "ROV_after_C_prob = ROV_after_C_count / current_C_total\n",
    "\n",
    "C_after_PC_prob = C_after_PC_count / current_PC_total\n",
    "PC_after_PC_prob = PC_after_PC_count / current_PC_total\n",
    "OV_after_PC_prob = OV_after_PC_count / current_PC_total\n",
    "R_after_PC_prob = R_after_PC_count / current_PC_total\n",
    "RPC_after_PC_prob = RPC_after_PC_count / current_PC_total\n",
    "ROV_after_PC_prob = ROV_after_PC_count / current_PC_total\n",
    "\n",
    "C_after_OV_prob = C_after_OV_count / current_OV_total\n",
    "PC_after_OV_prob = PC_after_OV_count / current_OV_total\n",
    "OV_after_OV_prob = OV_after_OV_count / current_OV_total\n",
    "R_after_OV_prob = R_after_OV_count / current_OV_total\n",
    "RPC_after_OV_prob = RPC_after_OV_count / current_OV_total\n",
    "ROV_after_OV_prob = ROV_after_OV_count / current_OV_total\n",
    "\n",
    "C_after_R_prob = C_after_R_count / current_R_total\n",
    "PC_after_R_prob = PC_after_R_count / current_R_total\n",
    "OV_after_R_prob = OV_after_R_count / current_R_total\n",
    "R_after_R_prob = R_after_R_count / current_R_total\n",
    "RPC_after_R_prob = RPC_after_R_count / current_R_total\n",
    "ROV_after_R_prob = ROV_after_R_count / current_R_total\n",
    "\n",
    "C_after_RPC_prob = C_after_RPC_count / current_RPC_total\n",
    "PC_after_RPC_prob = PC_after_RPC_count / current_RPC_total\n",
    "OV_after_RPC_prob = OV_after_RPC_count / current_RPC_total\n",
    "R_after_RPC_prob = R_after_RPC_count / current_RPC_total\n",
    "RPC_after_RPC_prob = RPC_after_RPC_count / current_RPC_total\n",
    "ROV_after_RPC_prob = ROV_after_RPC_count / current_RPC_total\n",
    "\n",
    "C_after_ROV_prob = C_after_ROV_count / current_ROV_total\n",
    "PC_after_ROV_prob = PC_after_ROV_count / current_ROV_total\n",
    "OV_after_ROV_prob = OV_after_ROV_count / current_ROV_total\n",
    "R_after_ROV_prob = R_after_ROV_count / current_ROV_total\n",
    "RPC_after_ROV_prob = RPC_after_ROV_count / current_ROV_total\n",
    "ROV_after_ROV_prob = ROV_after_ROV_count / current_ROV_total"
   ]
  },
  {
   "cell_type": "code",
   "execution_count": 14,
   "metadata": {},
   "outputs": [
    {
     "name": "stdout",
     "output_type": "stream",
     "text": [
      "0.7429775280898876\n",
      "0.1853932584269663\n",
      "0.0\n",
      "0.008426966292134831\n",
      "0.06320224719101124\n",
      "0.0\n",
      "0.27706422018348625\n",
      "0.6220183486238532\n",
      "0.03669724770642202\n",
      "0.0\n",
      "0.05871559633027523\n",
      "0.005504587155963303\n",
      "0.03225806451612903\n",
      "0.7741935483870968\n",
      "0.1935483870967742\n",
      "0.0\n",
      "0.0\n",
      "0.0\n",
      "0.2857142857142857\n",
      "0.2857142857142857\n",
      "0.0\n",
      "0.0\n",
      "0.42857142857142855\n",
      "0.0\n",
      "0.18\n",
      "0.26666666666666666\n",
      "0.02\n",
      "0.006666666666666667\n",
      "0.44666666666666666\n",
      "0.08\n",
      "0.06666666666666667\n",
      "0.6\n",
      "0.13333333333333333\n",
      "0.0\n",
      "0.2\n",
      "0.0\n"
     ]
    }
   ],
   "source": [
    "# Printing our probabilities for 6x6 transition matrix:\n",
    "print(C_after_C_prob)\n",
    "print(PC_after_C_prob)\n",
    "print(OV_after_C_prob)\n",
    "print(R_after_C_prob)\n",
    "print(RPC_after_C_prob)\n",
    "print(ROV_after_C_prob)\n",
    "\n",
    "print(C_after_PC_prob)\n",
    "print(PC_after_PC_prob)\n",
    "print(OV_after_PC_prob)\n",
    "print(R_after_PC_prob)\n",
    "print(RPC_after_PC_prob)\n",
    "print(ROV_after_PC_prob)\n",
    "\n",
    "print(C_after_OV_prob)\n",
    "print(PC_after_OV_prob)\n",
    "print(OV_after_OV_prob)\n",
    "print(R_after_OV_prob)\n",
    "print(RPC_after_OV_prob)\n",
    "print(ROV_after_OV_prob)\n",
    "\n",
    "print(C_after_R_prob)\n",
    "print(PC_after_R_prob)\n",
    "print(OV_after_R_prob)\n",
    "print(R_after_R_prob)\n",
    "print(RPC_after_R_prob)\n",
    "print(ROV_after_R_prob)\n",
    "\n",
    "print(C_after_RPC_prob)\n",
    "print(PC_after_RPC_prob)\n",
    "print(OV_after_RPC_prob)\n",
    "print(R_after_RPC_prob)\n",
    "print(RPC_after_RPC_prob)\n",
    "print(ROV_after_RPC_prob)\n",
    "\n",
    "print(C_after_ROV_prob)\n",
    "print(PC_after_ROV_prob)\n",
    "print(OV_after_ROV_prob)\n",
    "print(R_after_ROV_prob)\n",
    "print(RPC_after_ROV_prob)\n",
    "print(ROV_after_ROV_prob)"
   ]
  },
  {
   "cell_type": "code",
   "execution_count": 15,
   "metadata": {},
   "outputs": [
    {
     "name": "stdout",
     "output_type": "stream",
     "text": [
      "0.9999999999999999\n",
      "1.0\n",
      "1.0\n",
      "1.0\n",
      "0.9999999999999999\n",
      "1.0\n"
     ]
    }
   ],
   "source": [
    "# Checking that each row in the transition matrix adds up to 1:\n",
    "print(C_after_C_prob + PC_after_C_prob + OV_after_C_prob + R_after_C_prob + RPC_after_C_prob + ROV_after_C_prob)\n",
    "print(C_after_PC_prob + PC_after_PC_prob + OV_after_PC_prob + R_after_PC_prob + RPC_after_PC_prob + ROV_after_PC_prob)\n",
    "print(C_after_OV_prob + PC_after_OV_prob + OV_after_OV_prob + R_after_OV_prob + RPC_after_OV_prob + ROV_after_OV_prob)\n",
    "print(C_after_R_prob + PC_after_R_prob + OV_after_R_prob + R_after_R_prob + RPC_after_R_prob + ROV_after_R_prob)\n",
    "print(C_after_RPC_prob + PC_after_RPC_prob + OV_after_RPC_prob + R_after_RPC_prob + RPC_after_RPC_prob + ROV_after_RPC_prob)\n",
    "print(C_after_ROV_prob + PC_after_ROV_prob + OV_after_ROV_prob + R_after_ROV_prob + RPC_after_ROV_prob + ROV_after_ROV_prob)"
   ]
  },
  {
   "cell_type": "code",
   "execution_count": 16,
   "metadata": {},
   "outputs": [
    {
     "name": "stdout",
     "output_type": "stream",
     "text": [
      "[[0.7429775280898876, 0.1853932584269663, 0.0, 0.008426966292134831, 0.06320224719101124, 0.0], [0.27706422018348625, 0.6220183486238532, 0.03669724770642202, 0.0, 0.05871559633027523, 0.005504587155963303], [0.03225806451612903, 0.7741935483870968, 0.1935483870967742, 0.0, 0.0, 0.0], [0.2857142857142857, 0.2857142857142857, 0.0, 0.0, 0.42857142857142855, 0.0], [0.18, 0.26666666666666666, 0.02, 0.006666666666666667, 0.44666666666666666, 0.08], [0.06666666666666667, 0.6, 0.13333333333333333, 0.0, 0.2, 0.0]]\n"
     ]
    }
   ],
   "source": [
    "# Creating the transition matrix:\n",
    "transition_matrix = [[C_after_C_prob, PC_after_C_prob, OV_after_C_prob, R_after_C_prob, RPC_after_C_prob, ROV_after_C_prob], \n",
    "                    [C_after_PC_prob, PC_after_PC_prob, OV_after_PC_prob, R_after_PC_prob, RPC_after_PC_prob, ROV_after_PC_prob],\n",
    "                    [C_after_OV_prob, PC_after_OV_prob, OV_after_OV_prob, R_after_OV_prob, RPC_after_OV_prob, ROV_after_OV_prob],\n",
    "                    [C_after_R_prob, PC_after_R_prob, OV_after_R_prob, R_after_R_prob, RPC_after_R_prob, ROV_after_R_prob],\n",
    "                    [C_after_RPC_prob, PC_after_RPC_prob, OV_after_RPC_prob, R_after_RPC_prob, RPC_after_RPC_prob, ROV_after_RPC_prob],\n",
    "                    [C_after_ROV_prob, PC_after_ROV_prob, OV_after_ROV_prob, R_after_ROV_prob, RPC_after_ROV_prob, ROV_after_ROV_prob]]\n",
    "print(transition_matrix)"
   ]
  },
  {
   "cell_type": "code",
   "execution_count": 17,
   "metadata": {},
   "outputs": [
    {
     "name": "stdout",
     "output_type": "stream",
     "text": [
      "[[0.74297753 0.18539326 0.         0.00842697 0.06320225 0.        ]\n",
      " [0.27706422 0.62201835 0.03669725 0.         0.0587156  0.00550459]\n",
      " [0.03225806 0.77419355 0.19354839 0.         0.         0.        ]\n",
      " [0.28571429 0.28571429 0.         0.         0.42857143 0.        ]\n",
      " [0.18       0.26666667 0.02       0.00666667 0.44666667 0.08      ]\n",
      " [0.06666667 0.6        0.13333333 0.         0.2        0.        ]]\n"
     ]
    }
   ],
   "source": [
    "t_array = np.array(transition_matrix)\n",
    "print(t_array)"
   ]
  },
  {
   "cell_type": "code",
   "execution_count": 18,
   "metadata": {},
   "outputs": [
    {
     "data": {
      "text/html": [
       "<div>\n",
       "<style scoped>\n",
       "    .dataframe tbody tr th:only-of-type {\n",
       "        vertical-align: middle;\n",
       "    }\n",
       "\n",
       "    .dataframe tbody tr th {\n",
       "        vertical-align: top;\n",
       "    }\n",
       "\n",
       "    .dataframe thead th {\n",
       "        text-align: right;\n",
       "    }\n",
       "</style>\n",
       "<table border=\"1\" class=\"dataframe\">\n",
       "  <thead>\n",
       "    <tr style=\"text-align: right;\">\n",
       "      <th></th>\n",
       "      <th>index</th>\n",
       "      <th>datetime</th>\n",
       "      <th>condition</th>\n",
       "    </tr>\n",
       "  </thead>\n",
       "  <tbody>\n",
       "    <tr>\n",
       "      <th>0</th>\n",
       "      <td>7671</td>\n",
       "      <td>2021-01-01</td>\n",
       "      <td>clear</td>\n",
       "    </tr>\n",
       "  </tbody>\n",
       "</table>\n",
       "</div>"
      ],
      "text/plain": [
       "   index    datetime condition\n",
       "0   7671  2021-01-01     clear"
      ]
     },
     "execution_count": 18,
     "metadata": {},
     "output_type": "execute_result"
    }
   ],
   "source": [
    "all_seasons_test.head(1)"
   ]
  },
  {
   "cell_type": "markdown",
   "metadata": {},
   "source": [
    "First Day of 2018: clear"
   ]
  },
  {
   "cell_type": "code",
   "execution_count": 19,
   "metadata": {},
   "outputs": [],
   "source": [
    "def predict_weather_six_conditions(test_data):\n",
    "    state = {0:'clear', 1:'partially_cloudy', 2:'overcast', 3:'rain', 4:'rain_partially_cloudy', 5:'rain_overcast'}\n",
    "    n = len(test_data) # how many steps to test\n",
    "    start_state = 0 # 0 = clear\n",
    "    test_result = test_data.copy()\n",
    "\n",
    "    prev_state = start_state\n",
    "    result = []\n",
    "    result.append(state[start_state])\n",
    "    while n-1:\n",
    "        curr_state = np.random.choice([0,1,2,3,4,5], p=t_array[prev_state]) #taking the probability from the transition matrix\n",
    "        result.append(state[curr_state])\n",
    "        prev_state = curr_state\n",
    "        n -= 1\n",
    "\n",
    "    # curr_state = np.random.choice([0,1,2,3,4,5], p=t_array[prev_state]) #taking the probability from the transition matrix\n",
    "    # result.append(state[curr_state])\n",
    "\n",
    "    test_result['predicted_condition'] = result\n",
    "\n",
    "    return test_result\n",
    "\n",
    "def find_accuracy(predicted_result):\n",
    "    correct_count = 0.0\n",
    "\n",
    "    for i in range(len(predicted_result)):\n",
    "        if predicted_result.loc[i, 'condition'] == predicted_result.loc[i, 'predicted_condition']:\n",
    "            correct_count += 1\n",
    "\n",
    "    correct_prop = correct_count / len(predicted_result)\n",
    "\n",
    "    return correct_prop\n",
    "\n",
    "def run_predictions_return_avg_accuracy(test_data, trial_count):\n",
    "    accuracy_sum = 0.0\n",
    "    for i in range(trial_count):\n",
    "        predicted_result = predict_weather_six_conditions(test_data)\n",
    "        accuracy = find_accuracy(predicted_result)\n",
    "        accuracy_sum += accuracy\n",
    "    avg_accuracy = accuracy_sum / trial_count\n",
    "\n",
    "    return avg_accuracy"
   ]
  },
  {
   "cell_type": "code",
   "execution_count": 20,
   "metadata": {},
   "outputs": [
    {
     "name": "stdout",
     "output_type": "stream",
     "text": [
      "   index    datetime         condition    predicted_condition\n",
      "0   7671  2021-01-01             clear                  clear\n",
      "1   7672  2021-01-02             clear  rain_partially_cloudy\n",
      "2   7673  2021-01-03  partially_cloudy  rain_partially_cloudy\n",
      "3   7674  2021-01-04  partially_cloudy               overcast\n",
      "4   7675  2021-01-05  partially_cloudy       partially_cloudy\n",
      "0.3698630136986301\n"
     ]
    }
   ],
   "source": [
    "# Sample prediction (for table graphic)\n",
    "\n",
    "sample_prediction = predict_weather_six_conditions(all_seasons_test)\n",
    "sample_accuracy = find_accuracy(sample_prediction)\n",
    "print(sample_prediction.head())\n",
    "print(sample_accuracy)"
   ]
  },
  {
   "cell_type": "code",
   "execution_count": 21,
   "metadata": {},
   "outputs": [
    {
     "data": {
      "text/plain": [
       "0.38753424657534247"
      ]
     },
     "execution_count": 21,
     "metadata": {},
     "output_type": "execute_result"
    }
   ],
   "source": [
    "run_predictions_return_avg_accuracy(all_seasons_test, 100)"
   ]
  }
 ],
 "metadata": {
  "kernelspec": {
   "display_name": "Python 3 (ipykernel)",
   "language": "python",
   "name": "python3"
  },
  "language_info": {
   "codemirror_mode": {
    "name": "ipython",
    "version": 3
   },
   "file_extension": ".py",
   "mimetype": "text/x-python",
   "name": "python",
   "nbconvert_exporter": "python",
   "pygments_lexer": "ipython3",
   "version": "3.9.7 (default, Sep 16 2021, 08:50:36) \n[Clang 10.0.0 ]"
  },
  "vscode": {
   "interpreter": {
    "hash": "78adb8089f1b1ad0b7743184fb6585d3ffc1b6fb4a355aad49fe7003845e53d4"
   }
  }
 },
 "nbformat": 4,
 "nbformat_minor": 4
}
